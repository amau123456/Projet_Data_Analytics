{
 "cells": [
  {
   "cell_type": "markdown",
   "id": "ef1790a8",
   "metadata": {},
   "source": [
    "# Projet - Analyse de données - Subvention des Associations"
   ]
  },
  {
   "cell_type": "markdown",
   "id": "f958e26a",
   "metadata": {},
   "source": [
    "### Amaury Richard & Victoire Flesselles"
   ]
  },
  {
   "cell_type": "markdown",
   "id": "97be0d88",
   "metadata": {},
   "source": [
    "## Documentation"
   ]
  },
  {
   "cell_type": "markdown",
   "id": "fb0219d6",
   "metadata": {},
   "source": [
    "Nous allons étudier la répartition des subventions accordées aux différentes associations parisiennes. La documentation de la source de données est disponible [ici](https://opendata.paris.fr/explore/dataset/subventions-accordees-et-refusees/information/?disjunctive.collectivite&disjunctive.nom_beneficiaire&disjunctive.direction&disjunctive.secteurs_d_activites_definies_par_l_association&fbclid=IwAR3XJekkoUasIjGTl346zJSyoJCs4rmpXmQAwNcqLOcPfIdz8MaIro_dUUs&dataChart=eyJxdWVyaWVzIjpbeyJjaGFydHMiOlt7InR5cGUiOiJwaWUiLCJmdW5jIjoiU1VNIiwieUF4aXMiOiJtb250YW50X3ZvdGUiLCJzY2llbnRpZmljRGlzcGxheSI6dHJ1ZSwiY29sb3IiOiJyYW5nZS1QYWlyZWQiLCJwb3NpdGlvbiI6ImNlbnRlciJ9XSwieEF4aXMiOiJuYXR1cmVfZGVfbGFfc3VidmVudGlvbiIsIm1heHBvaW50cyI6MTAwLCJzb3J0Ijoic2VyaWUxLTEiLCJzZXJpZXNCcmVha2Rvd24iOiIiLCJzZXJpZXNCcmVha2Rvd25UaW1lc2NhbGUiOiIiLCJ0aW1lc2NhbGUiOiIiLCJjb25maWciOnsiZGF0YXNldCI6InN1YnZlbnRpb25zLWFjY29yZGVlcy1ldC1yZWZ1c2VlcyIsIm9wdGlvbnMiOnsiZGlzanVuY3RpdmUuY29sbGVjdGl2aXRlIjp0cnVlLCJkaXNqdW5jdGl2ZS5ub21fYmVuZWZpY2lhaXJlIjp0cnVlLCJkaXNqdW5jdGl2ZS5kaXJlY3Rpb24iOnRydWUsImRpc2p1bmN0aXZlLnNlY3RldXJzX2RfYWN0aXZpdGVzX2RlZmluaWVzX3Bhcl9sX2Fzc29jaWF0aW9uIjp0cnVlLCJmYmNsaWQiOiJJd0FSM1hKZWtrb1Vhc0lqR1RsMzQ2ekpTeW9KQ3M0cm1wWG1RQXdOY3FMT2NQZklkejhNYUlyb19kVVVzIn19fV0sInRpbWVzY2FsZSI6IiIsImRpc3BsYXlMZWdlbmQiOnRydWUsImFsaWduTW9udGgiOnRydWV9)."
   ]
  },
  {
   "cell_type": "markdown",
   "id": "a6df3286",
   "metadata": {},
   "source": [
    "## Import des données"
   ]
  },
  {
   "cell_type": "code",
   "execution_count": 1,
   "id": "74e0abd1",
   "metadata": {},
   "outputs": [],
   "source": [
    "import pandas"
   ]
  },
  {
   "cell_type": "code",
   "execution_count": 2,
   "id": "5ccebe5b",
   "metadata": {},
   "outputs": [],
   "source": [
    "import matplotlib as plt"
   ]
  },
  {
   "cell_type": "code",
   "execution_count": 3,
   "id": "ae305a77",
   "metadata": {
    "scrolled": true
   },
   "outputs": [
    {
     "name": "stderr",
     "output_type": "stream",
     "text": [
      "C:\\ProgramData\\Anaconda3\\lib\\site-packages\\IPython\\core\\interactiveshell.py:3444: DtypeWarning: Columns (4) have mixed types.Specify dtype option on import or set low_memory=False.\n",
      "  exec(code_obj, self.user_global_ns, self.user_ns)\n"
     ]
    }
   ],
   "source": [
    "assos = pandas.read_csv(\"subventions-accordees-et-refusees.csv\",sep=\";\")"
   ]
  },
  {
   "cell_type": "markdown",
   "id": "4e40a696",
   "metadata": {},
   "source": [
    "Vérifions que le fichier ait bien chargé"
   ]
  },
  {
   "cell_type": "code",
   "execution_count": 4,
   "id": "862841dd",
   "metadata": {
    "scrolled": true
   },
   "outputs": [
    {
     "data": {
      "text/html": [
       "<div>\n",
       "<style scoped>\n",
       "    .dataframe tbody tr th:only-of-type {\n",
       "        vertical-align: middle;\n",
       "    }\n",
       "\n",
       "    .dataframe tbody tr th {\n",
       "        vertical-align: top;\n",
       "    }\n",
       "\n",
       "    .dataframe thead th {\n",
       "        text-align: right;\n",
       "    }\n",
       "</style>\n",
       "<table border=\"1\" class=\"dataframe\">\n",
       "  <thead>\n",
       "    <tr style=\"text-align: right;\">\n",
       "      <th></th>\n",
       "      <th>Numéro de dossier</th>\n",
       "      <th>Année budgétaire</th>\n",
       "      <th>Collectivité</th>\n",
       "      <th>Nom Bénéficiaire</th>\n",
       "      <th>Numéro Siret</th>\n",
       "      <th>Objet du dossier</th>\n",
       "      <th>Montant voté</th>\n",
       "      <th>Direction</th>\n",
       "      <th>Nature de la subvention</th>\n",
       "      <th>Secteurs d'activités définies par l'association</th>\n",
       "    </tr>\n",
       "  </thead>\n",
       "  <tbody>\n",
       "    <tr>\n",
       "      <th>0</th>\n",
       "      <td>2020_07586</td>\n",
       "      <td>2020</td>\n",
       "      <td>Ville de Paris</td>\n",
       "      <td>13 POUR TOUS</td>\n",
       "      <td>48905531900029</td>\n",
       "      <td>Co-financement DDCT d'un poste adultes-relais ...</td>\n",
       "      <td>4700</td>\n",
       "      <td>DDCT</td>\n",
       "      <td>Fonctionnement</td>\n",
       "      <td>Loisirs;Social;Vie et animation locale</td>\n",
       "    </tr>\n",
       "    <tr>\n",
       "      <th>1</th>\n",
       "      <td>2020_08053</td>\n",
       "      <td>2020</td>\n",
       "      <td>Ville de Paris</td>\n",
       "      <td>13 POUR TOUS</td>\n",
       "      <td>48905531900029</td>\n",
       "      <td>CS 2020/DASES SEPLEX</td>\n",
       "      <td>209692</td>\n",
       "      <td>DASES</td>\n",
       "      <td>Fonctionnement</td>\n",
       "      <td>Loisirs;Social;Vie et animation locale</td>\n",
       "    </tr>\n",
       "    <tr>\n",
       "      <th>2</th>\n",
       "      <td>2020_04885</td>\n",
       "      <td>2020</td>\n",
       "      <td>Ville de Paris</td>\n",
       "      <td>3 S : SEJOUR SPORTIF SOLIDAIRE</td>\n",
       "      <td>81147565600013</td>\n",
       "      <td>Ressourcerie Ephémère</td>\n",
       "      <td>0</td>\n",
       "      <td>DAE</td>\n",
       "      <td>Non précisée</td>\n",
       "      <td>Environnement &amp; écologie;Sport;Vie et animatio...</td>\n",
       "    </tr>\n",
       "    <tr>\n",
       "      <th>3</th>\n",
       "      <td>2020_05032</td>\n",
       "      <td>2020</td>\n",
       "      <td>Ville de Paris</td>\n",
       "      <td>4 A 4 DIX HUIT</td>\n",
       "      <td>48909505900015</td>\n",
       "      <td>De Mômes et d'opérette : Des grottes de Lascau...</td>\n",
       "      <td>0</td>\n",
       "      <td>DASCO</td>\n",
       "      <td>Non précisée</td>\n",
       "      <td>Culture &amp; Arts;Social;Sport</td>\n",
       "    </tr>\n",
       "    <tr>\n",
       "      <th>4</th>\n",
       "      <td>2020_02992</td>\n",
       "      <td>2020</td>\n",
       "      <td>Ville de Paris</td>\n",
       "      <td>ABC PUERICULTURE</td>\n",
       "      <td>34482479200032</td>\n",
       "      <td>Fonctionnement 2020 cité des ours 14 cité fala...</td>\n",
       "      <td>217134</td>\n",
       "      <td>DFPE</td>\n",
       "      <td>Fonctionnement</td>\n",
       "      <td>Education &amp; formation;Santé;Social</td>\n",
       "    </tr>\n",
       "  </tbody>\n",
       "</table>\n",
       "</div>"
      ],
      "text/plain": [
       "  Numéro de dossier  Année budgétaire    Collectivité  \\\n",
       "0        2020_07586              2020  Ville de Paris   \n",
       "1        2020_08053              2020  Ville de Paris   \n",
       "2        2020_04885              2020  Ville de Paris   \n",
       "3        2020_05032              2020  Ville de Paris   \n",
       "4        2020_02992              2020  Ville de Paris   \n",
       "\n",
       "                 Nom Bénéficiaire    Numéro Siret  \\\n",
       "0                    13 POUR TOUS  48905531900029   \n",
       "1                    13 POUR TOUS  48905531900029   \n",
       "2  3 S : SEJOUR SPORTIF SOLIDAIRE  81147565600013   \n",
       "3                  4 A 4 DIX HUIT  48909505900015   \n",
       "4                ABC PUERICULTURE  34482479200032   \n",
       "\n",
       "                                    Objet du dossier  Montant voté Direction  \\\n",
       "0  Co-financement DDCT d'un poste adultes-relais ...          4700      DDCT   \n",
       "1                               CS 2020/DASES SEPLEX        209692     DASES   \n",
       "2                              Ressourcerie Ephémère             0       DAE   \n",
       "3  De Mômes et d'opérette : Des grottes de Lascau...             0     DASCO   \n",
       "4  Fonctionnement 2020 cité des ours 14 cité fala...        217134      DFPE   \n",
       "\n",
       "  Nature de la subvention    Secteurs d'activités définies par l'association  \n",
       "0          Fonctionnement             Loisirs;Social;Vie et animation locale  \n",
       "1          Fonctionnement             Loisirs;Social;Vie et animation locale  \n",
       "2            Non précisée  Environnement & écologie;Sport;Vie et animatio...  \n",
       "3            Non précisée                        Culture & Arts;Social;Sport  \n",
       "4          Fonctionnement                 Education & formation;Santé;Social  "
      ]
     },
     "execution_count": 4,
     "metadata": {},
     "output_type": "execute_result"
    }
   ],
   "source": [
    "assos.head()"
   ]
  },
  {
   "cell_type": "markdown",
   "id": "0f26d562",
   "metadata": {},
   "source": [
    "## Préparer les données pour les exploiter correctement"
   ]
  },
  {
   "cell_type": "markdown",
   "id": "a0fe6d5f",
   "metadata": {},
   "source": [
    "La documentation nous informe que la colonne \"Secteurs d'activités définies par l'association\" comporte au maximum trois attributs. Nous allons spliter les attributs de cette colonne afin de les exploiter par la suite."
   ]
  },
  {
   "cell_type": "code",
   "execution_count": 5,
   "id": "f38c8cd8",
   "metadata": {},
   "outputs": [],
   "source": [
    "assos[\"Secteurs d'activités définies par l'association\"].str.split(\";\",expand=True)[0]\n",
    "\n",
    "assos.insert(10,\"Secteur Activité 1\",assos[\"Secteurs d'activités définies par l'association\"].str.split(\";\",expand=True)[0])\n",
    "assos.insert(11,\"Secteur Activité 2\",assos[\"Secteurs d'activités définies par l'association\"].str.split(\";\",expand=True)[1])\n",
    "assos.insert(12,\"Secteur Activité 3\",assos[\"Secteurs d'activités définies par l'association\"].str.split(\";\",expand=True)[2])\n",
    "del assos[\"Secteurs d'activités définies par l'association\"]"
   ]
  },
  {
   "cell_type": "code",
   "execution_count": 6,
   "id": "759a62c6",
   "metadata": {},
   "outputs": [
    {
     "data": {
      "text/html": [
       "<div>\n",
       "<style scoped>\n",
       "    .dataframe tbody tr th:only-of-type {\n",
       "        vertical-align: middle;\n",
       "    }\n",
       "\n",
       "    .dataframe tbody tr th {\n",
       "        vertical-align: top;\n",
       "    }\n",
       "\n",
       "    .dataframe thead th {\n",
       "        text-align: right;\n",
       "    }\n",
       "</style>\n",
       "<table border=\"1\" class=\"dataframe\">\n",
       "  <thead>\n",
       "    <tr style=\"text-align: right;\">\n",
       "      <th></th>\n",
       "      <th>Numéro de dossier</th>\n",
       "      <th>Année budgétaire</th>\n",
       "      <th>Collectivité</th>\n",
       "      <th>Nom Bénéficiaire</th>\n",
       "      <th>Numéro Siret</th>\n",
       "      <th>Objet du dossier</th>\n",
       "      <th>Montant voté</th>\n",
       "      <th>Direction</th>\n",
       "      <th>Nature de la subvention</th>\n",
       "      <th>Secteur Activité 1</th>\n",
       "      <th>Secteur Activité 2</th>\n",
       "      <th>Secteur Activité 3</th>\n",
       "    </tr>\n",
       "  </thead>\n",
       "  <tbody>\n",
       "    <tr>\n",
       "      <th>0</th>\n",
       "      <td>2020_07586</td>\n",
       "      <td>2020</td>\n",
       "      <td>Ville de Paris</td>\n",
       "      <td>13 POUR TOUS</td>\n",
       "      <td>48905531900029</td>\n",
       "      <td>Co-financement DDCT d'un poste adultes-relais ...</td>\n",
       "      <td>4700</td>\n",
       "      <td>DDCT</td>\n",
       "      <td>Fonctionnement</td>\n",
       "      <td>Loisirs</td>\n",
       "      <td>Social</td>\n",
       "      <td>Vie et animation locale</td>\n",
       "    </tr>\n",
       "    <tr>\n",
       "      <th>1</th>\n",
       "      <td>2020_08053</td>\n",
       "      <td>2020</td>\n",
       "      <td>Ville de Paris</td>\n",
       "      <td>13 POUR TOUS</td>\n",
       "      <td>48905531900029</td>\n",
       "      <td>CS 2020/DASES SEPLEX</td>\n",
       "      <td>209692</td>\n",
       "      <td>DASES</td>\n",
       "      <td>Fonctionnement</td>\n",
       "      <td>Loisirs</td>\n",
       "      <td>Social</td>\n",
       "      <td>Vie et animation locale</td>\n",
       "    </tr>\n",
       "    <tr>\n",
       "      <th>2</th>\n",
       "      <td>2020_04885</td>\n",
       "      <td>2020</td>\n",
       "      <td>Ville de Paris</td>\n",
       "      <td>3 S : SEJOUR SPORTIF SOLIDAIRE</td>\n",
       "      <td>81147565600013</td>\n",
       "      <td>Ressourcerie Ephémère</td>\n",
       "      <td>0</td>\n",
       "      <td>DAE</td>\n",
       "      <td>Non précisée</td>\n",
       "      <td>Environnement &amp; écologie</td>\n",
       "      <td>Sport</td>\n",
       "      <td>Vie et animation locale</td>\n",
       "    </tr>\n",
       "    <tr>\n",
       "      <th>3</th>\n",
       "      <td>2020_05032</td>\n",
       "      <td>2020</td>\n",
       "      <td>Ville de Paris</td>\n",
       "      <td>4 A 4 DIX HUIT</td>\n",
       "      <td>48909505900015</td>\n",
       "      <td>De Mômes et d'opérette : Des grottes de Lascau...</td>\n",
       "      <td>0</td>\n",
       "      <td>DASCO</td>\n",
       "      <td>Non précisée</td>\n",
       "      <td>Culture &amp; Arts</td>\n",
       "      <td>Social</td>\n",
       "      <td>Sport</td>\n",
       "    </tr>\n",
       "    <tr>\n",
       "      <th>4</th>\n",
       "      <td>2020_02992</td>\n",
       "      <td>2020</td>\n",
       "      <td>Ville de Paris</td>\n",
       "      <td>ABC PUERICULTURE</td>\n",
       "      <td>34482479200032</td>\n",
       "      <td>Fonctionnement 2020 cité des ours 14 cité fala...</td>\n",
       "      <td>217134</td>\n",
       "      <td>DFPE</td>\n",
       "      <td>Fonctionnement</td>\n",
       "      <td>Education &amp; formation</td>\n",
       "      <td>Santé</td>\n",
       "      <td>Social</td>\n",
       "    </tr>\n",
       "  </tbody>\n",
       "</table>\n",
       "</div>"
      ],
      "text/plain": [
       "  Numéro de dossier  Année budgétaire    Collectivité  \\\n",
       "0        2020_07586              2020  Ville de Paris   \n",
       "1        2020_08053              2020  Ville de Paris   \n",
       "2        2020_04885              2020  Ville de Paris   \n",
       "3        2020_05032              2020  Ville de Paris   \n",
       "4        2020_02992              2020  Ville de Paris   \n",
       "\n",
       "                 Nom Bénéficiaire    Numéro Siret  \\\n",
       "0                    13 POUR TOUS  48905531900029   \n",
       "1                    13 POUR TOUS  48905531900029   \n",
       "2  3 S : SEJOUR SPORTIF SOLIDAIRE  81147565600013   \n",
       "3                  4 A 4 DIX HUIT  48909505900015   \n",
       "4                ABC PUERICULTURE  34482479200032   \n",
       "\n",
       "                                    Objet du dossier  Montant voté Direction  \\\n",
       "0  Co-financement DDCT d'un poste adultes-relais ...          4700      DDCT   \n",
       "1                               CS 2020/DASES SEPLEX        209692     DASES   \n",
       "2                              Ressourcerie Ephémère             0       DAE   \n",
       "3  De Mômes et d'opérette : Des grottes de Lascau...             0     DASCO   \n",
       "4  Fonctionnement 2020 cité des ours 14 cité fala...        217134      DFPE   \n",
       "\n",
       "  Nature de la subvention        Secteur Activité 1 Secteur Activité 2  \\\n",
       "0          Fonctionnement                   Loisirs             Social   \n",
       "1          Fonctionnement                   Loisirs             Social   \n",
       "2            Non précisée  Environnement & écologie              Sport   \n",
       "3            Non précisée            Culture & Arts             Social   \n",
       "4          Fonctionnement     Education & formation              Santé   \n",
       "\n",
       "        Secteur Activité 3  \n",
       "0  Vie et animation locale  \n",
       "1  Vie et animation locale  \n",
       "2  Vie et animation locale  \n",
       "3                    Sport  \n",
       "4                   Social  "
      ]
     },
     "execution_count": 6,
     "metadata": {},
     "output_type": "execute_result"
    }
   ],
   "source": [
    "assos.head()"
   ]
  },
  {
   "cell_type": "markdown",
   "id": "209801fd",
   "metadata": {},
   "source": [
    "Nous allons enregistrer ce fichier \"splité\"."
   ]
  },
  {
   "cell_type": "code",
   "execution_count": 7,
   "id": "9047a59b",
   "metadata": {},
   "outputs": [],
   "source": [
    "assos.to_csv('./subventions-accordees-et-refusees-split.csv',sep=';',index=False)"
   ]
  },
  {
   "cell_type": "markdown",
   "id": "dfce5398",
   "metadata": {},
   "source": [
    "## Nettoyer et alléger les données"
   ]
  },
  {
   "cell_type": "markdown",
   "id": "8503f361",
   "metadata": {},
   "source": [
    "Regardons les informations techniques du tableau."
   ]
  },
  {
   "cell_type": "code",
   "execution_count": 8,
   "id": "5fd2567c",
   "metadata": {},
   "outputs": [
    {
     "name": "stdout",
     "output_type": "stream",
     "text": [
      "<class 'pandas.core.frame.DataFrame'>\n",
      "RangeIndex: 73034 entries, 0 to 73033\n",
      "Data columns (total 12 columns):\n",
      " #   Column                   Non-Null Count  Dtype \n",
      "---  ------                   --------------  ----- \n",
      " 0   Numéro de dossier        73034 non-null  object\n",
      " 1   Année budgétaire         73034 non-null  int64 \n",
      " 2   Collectivité             73034 non-null  object\n",
      " 3   Nom Bénéficiaire         73013 non-null  object\n",
      " 4   Numéro Siret             72843 non-null  object\n",
      " 5   Objet du dossier         73034 non-null  object\n",
      " 6   Montant voté             73034 non-null  int64 \n",
      " 7   Direction                73034 non-null  object\n",
      " 8   Nature de la subvention  73034 non-null  object\n",
      " 9   Secteur Activité 1       72994 non-null  object\n",
      " 10  Secteur Activité 2       61353 non-null  object\n",
      " 11  Secteur Activité 3       51102 non-null  object\n",
      "dtypes: int64(2), object(10)\n",
      "memory usage: 6.7+ MB\n"
     ]
    }
   ],
   "source": [
    "assos.info(verbose = True, show_counts=True)"
   ]
  },
  {
   "cell_type": "markdown",
   "id": "90e57cef",
   "metadata": {},
   "source": [
    "On remarque que la mémoire utilise 6,7 MB de stockage."
   ]
  },
  {
   "cell_type": "markdown",
   "id": "a2fc3b3a",
   "metadata": {},
   "source": [
    "Nous allons étudier la tendance sur les 5000 premières lignes pour alléger les données et l'espace mémoire."
   ]
  },
  {
   "cell_type": "code",
   "execution_count": 9,
   "id": "a278defb",
   "metadata": {},
   "outputs": [],
   "source": [
    "assos_study = pandas.read_csv(\"subventions-accordees-et-refusees-split.csv\",sep=\";\",nrows=25000)"
   ]
  },
  {
   "cell_type": "code",
   "execution_count": 10,
   "id": "166248c6",
   "metadata": {},
   "outputs": [
    {
     "data": {
      "text/html": [
       "<div>\n",
       "<style scoped>\n",
       "    .dataframe tbody tr th:only-of-type {\n",
       "        vertical-align: middle;\n",
       "    }\n",
       "\n",
       "    .dataframe tbody tr th {\n",
       "        vertical-align: top;\n",
       "    }\n",
       "\n",
       "    .dataframe thead th {\n",
       "        text-align: right;\n",
       "    }\n",
       "</style>\n",
       "<table border=\"1\" class=\"dataframe\">\n",
       "  <thead>\n",
       "    <tr style=\"text-align: right;\">\n",
       "      <th></th>\n",
       "      <th>Numéro de dossier</th>\n",
       "      <th>Année budgétaire</th>\n",
       "      <th>Collectivité</th>\n",
       "      <th>Nom Bénéficiaire</th>\n",
       "      <th>Numéro Siret</th>\n",
       "      <th>Objet du dossier</th>\n",
       "      <th>Montant voté</th>\n",
       "      <th>Direction</th>\n",
       "      <th>Nature de la subvention</th>\n",
       "      <th>Secteur Activité 1</th>\n",
       "      <th>Secteur Activité 2</th>\n",
       "      <th>Secteur Activité 3</th>\n",
       "    </tr>\n",
       "  </thead>\n",
       "  <tbody>\n",
       "    <tr>\n",
       "      <th>0</th>\n",
       "      <td>2020_07586</td>\n",
       "      <td>2020</td>\n",
       "      <td>Ville de Paris</td>\n",
       "      <td>13 POUR TOUS</td>\n",
       "      <td>48905531900029</td>\n",
       "      <td>Co-financement DDCT d'un poste adultes-relais ...</td>\n",
       "      <td>4700</td>\n",
       "      <td>DDCT</td>\n",
       "      <td>Fonctionnement</td>\n",
       "      <td>Loisirs</td>\n",
       "      <td>Social</td>\n",
       "      <td>Vie et animation locale</td>\n",
       "    </tr>\n",
       "    <tr>\n",
       "      <th>1</th>\n",
       "      <td>2020_08053</td>\n",
       "      <td>2020</td>\n",
       "      <td>Ville de Paris</td>\n",
       "      <td>13 POUR TOUS</td>\n",
       "      <td>48905531900029</td>\n",
       "      <td>CS 2020/DASES SEPLEX</td>\n",
       "      <td>209692</td>\n",
       "      <td>DASES</td>\n",
       "      <td>Fonctionnement</td>\n",
       "      <td>Loisirs</td>\n",
       "      <td>Social</td>\n",
       "      <td>Vie et animation locale</td>\n",
       "    </tr>\n",
       "    <tr>\n",
       "      <th>2</th>\n",
       "      <td>2020_04885</td>\n",
       "      <td>2020</td>\n",
       "      <td>Ville de Paris</td>\n",
       "      <td>3 S : SEJOUR SPORTIF SOLIDAIRE</td>\n",
       "      <td>81147565600013</td>\n",
       "      <td>Ressourcerie Ephémère</td>\n",
       "      <td>0</td>\n",
       "      <td>DAE</td>\n",
       "      <td>Non précisée</td>\n",
       "      <td>Environnement &amp; écologie</td>\n",
       "      <td>Sport</td>\n",
       "      <td>Vie et animation locale</td>\n",
       "    </tr>\n",
       "    <tr>\n",
       "      <th>3</th>\n",
       "      <td>2020_05032</td>\n",
       "      <td>2020</td>\n",
       "      <td>Ville de Paris</td>\n",
       "      <td>4 A 4 DIX HUIT</td>\n",
       "      <td>48909505900015</td>\n",
       "      <td>De Mômes et d'opérette : Des grottes de Lascau...</td>\n",
       "      <td>0</td>\n",
       "      <td>DASCO</td>\n",
       "      <td>Non précisée</td>\n",
       "      <td>Culture &amp; Arts</td>\n",
       "      <td>Social</td>\n",
       "      <td>Sport</td>\n",
       "    </tr>\n",
       "    <tr>\n",
       "      <th>4</th>\n",
       "      <td>2020_02992</td>\n",
       "      <td>2020</td>\n",
       "      <td>Ville de Paris</td>\n",
       "      <td>ABC PUERICULTURE</td>\n",
       "      <td>34482479200032</td>\n",
       "      <td>Fonctionnement 2020 cité des ours 14 cité fala...</td>\n",
       "      <td>217134</td>\n",
       "      <td>DFPE</td>\n",
       "      <td>Fonctionnement</td>\n",
       "      <td>Education &amp; formation</td>\n",
       "      <td>Santé</td>\n",
       "      <td>Social</td>\n",
       "    </tr>\n",
       "  </tbody>\n",
       "</table>\n",
       "</div>"
      ],
      "text/plain": [
       "  Numéro de dossier  Année budgétaire    Collectivité  \\\n",
       "0        2020_07586              2020  Ville de Paris   \n",
       "1        2020_08053              2020  Ville de Paris   \n",
       "2        2020_04885              2020  Ville de Paris   \n",
       "3        2020_05032              2020  Ville de Paris   \n",
       "4        2020_02992              2020  Ville de Paris   \n",
       "\n",
       "                 Nom Bénéficiaire    Numéro Siret  \\\n",
       "0                    13 POUR TOUS  48905531900029   \n",
       "1                    13 POUR TOUS  48905531900029   \n",
       "2  3 S : SEJOUR SPORTIF SOLIDAIRE  81147565600013   \n",
       "3                  4 A 4 DIX HUIT  48909505900015   \n",
       "4                ABC PUERICULTURE  34482479200032   \n",
       "\n",
       "                                    Objet du dossier  Montant voté Direction  \\\n",
       "0  Co-financement DDCT d'un poste adultes-relais ...          4700      DDCT   \n",
       "1                               CS 2020/DASES SEPLEX        209692     DASES   \n",
       "2                              Ressourcerie Ephémère             0       DAE   \n",
       "3  De Mômes et d'opérette : Des grottes de Lascau...             0     DASCO   \n",
       "4  Fonctionnement 2020 cité des ours 14 cité fala...        217134      DFPE   \n",
       "\n",
       "  Nature de la subvention        Secteur Activité 1 Secteur Activité 2  \\\n",
       "0          Fonctionnement                   Loisirs             Social   \n",
       "1          Fonctionnement                   Loisirs             Social   \n",
       "2            Non précisée  Environnement & écologie              Sport   \n",
       "3            Non précisée            Culture & Arts             Social   \n",
       "4          Fonctionnement     Education & formation              Santé   \n",
       "\n",
       "        Secteur Activité 3  \n",
       "0  Vie et animation locale  \n",
       "1  Vie et animation locale  \n",
       "2  Vie et animation locale  \n",
       "3                    Sport  \n",
       "4                   Social  "
      ]
     },
     "execution_count": 10,
     "metadata": {},
     "output_type": "execute_result"
    }
   ],
   "source": [
    "assos_study.head()"
   ]
  },
  {
   "cell_type": "markdown",
   "id": "f1f48702",
   "metadata": {},
   "source": [
    "Affichons le type de données et le nombre de valeurs non nulles dans chaque colonne."
   ]
  },
  {
   "cell_type": "code",
   "execution_count": 11,
   "id": "805831ac",
   "metadata": {
    "scrolled": true
   },
   "outputs": [
    {
     "name": "stdout",
     "output_type": "stream",
     "text": [
      "<class 'pandas.core.frame.DataFrame'>\n",
      "RangeIndex: 25000 entries, 0 to 24999\n",
      "Data columns (total 12 columns):\n",
      " #   Column                   Non-Null Count  Dtype \n",
      "---  ------                   --------------  ----- \n",
      " 0   Numéro de dossier        25000 non-null  object\n",
      " 1   Année budgétaire         25000 non-null  int64 \n",
      " 2   Collectivité             25000 non-null  object\n",
      " 3   Nom Bénéficiaire         24992 non-null  object\n",
      " 4   Numéro Siret             24957 non-null  object\n",
      " 5   Objet du dossier         25000 non-null  object\n",
      " 6   Montant voté             25000 non-null  int64 \n",
      " 7   Direction                25000 non-null  object\n",
      " 8   Nature de la subvention  25000 non-null  object\n",
      " 9   Secteur Activité 1       24990 non-null  object\n",
      " 10  Secteur Activité 2       21031 non-null  object\n",
      " 11  Secteur Activité 3       17529 non-null  object\n",
      "dtypes: int64(2), object(10)\n",
      "memory usage: 2.3+ MB\n"
     ]
    }
   ],
   "source": [
    "assos_study.info(verbose = True, show_counts=True)"
   ]
  },
  {
   "cell_type": "code",
   "execution_count": 12,
   "id": "7c9c4762",
   "metadata": {},
   "outputs": [
    {
     "data": {
      "text/plain": [
       "<AxesSubplot:ylabel='Frequency'>"
      ]
     },
     "execution_count": 12,
     "metadata": {},
     "output_type": "execute_result"
    },
    {
     "data": {
      "image/png": "[encoded data removed]",
      "text/plain": [
       "<Figure size 432x288 with 1 Axes>"
      ]
     },
     "metadata": {
      "needs_background": "light"
     },
     "output_type": "display_data"
    }
   ],
   "source": [
    "column_count = assos_study.count()\n",
    "column_count.plot.hist()"
   ]
  },
  {
   "cell_type": "markdown",
   "id": "40db23f6",
   "metadata": {},
   "source": [
    "Au vu des résultats ci-dessus, nous avons décidé de garder toutes les colonnes qui sont pour la plupart totalement remplies."
   ]
  },
  {
   "cell_type": "markdown",
   "id": "520e5f4d",
   "metadata": {},
   "source": [
    "## Gagner de l'espace mémoire en modifiant le type de données"
   ]
  },
  {
   "cell_type": "code",
   "execution_count": 13,
   "id": "c63a192c",
   "metadata": {},
   "outputs": [
    {
     "data": {
      "text/plain": [
       "Numéro de dossier          24995\n",
       "Année budgétaire               8\n",
       "Collectivité                   2\n",
       "Nom Bénéficiaire            6326\n",
       "Numéro Siret                6015\n",
       "Objet du dossier           18616\n",
       "Montant voté                2170\n",
       "Direction                     25\n",
       "Nature de la subvention        4\n",
       "Secteur Activité 1            22\n",
       "Secteur Activité 2            21\n",
       "Secteur Activité 3            18\n",
       "dtype: int64"
      ]
     },
     "execution_count": 13,
     "metadata": {},
     "output_type": "execute_result"
    }
   ],
   "source": [
    "assos_study.nunique()"
   ]
  },
  {
   "cell_type": "markdown",
   "id": "2f74a233",
   "metadata": {},
   "source": [
    "Regardons quelles valeurs sont récurrentes dans les colonnes avec peu de valeurs uniques."
   ]
  },
  {
   "cell_type": "code",
   "execution_count": 14,
   "id": "b4c290da",
   "metadata": {},
   "outputs": [
    {
     "data": {
      "text/plain": [
       "array([2020, 2019, 2017, 2018, 2016, 2013, 2014, 2015], dtype=int64)"
      ]
     },
     "execution_count": 14,
     "metadata": {},
     "output_type": "execute_result"
    }
   ],
   "source": [
    "assos_study['Année budgétaire'].unique()"
   ]
  },
  {
   "cell_type": "code",
   "execution_count": 15,
   "id": "644f205b",
   "metadata": {},
   "outputs": [
    {
     "data": {
      "text/plain": [
       "array(['Ville de Paris', 'Département de Paris'], dtype=object)"
      ]
     },
     "execution_count": 15,
     "metadata": {},
     "output_type": "execute_result"
    }
   ],
   "source": [
    "assos_study['Collectivité'].unique()"
   ]
  },
  {
   "cell_type": "code",
   "execution_count": 16,
   "id": "23809cfd",
   "metadata": {},
   "outputs": [
    {
     "data": {
      "text/plain": [
       "array(['DDCT', 'DASES', 'DAE', 'DASCO', 'DFPE', 'DAC', 'DEVE', 'DPSP',\n",
       "       'DJS', 'DPE', 'DGRI', 'DVD', 'SG', 'DGOM', 'CASVP', 'DU', 'DRH',\n",
       "       'DLH', 'DPVI', 'DUCT', 'SG-MI-CINEMA', 'SG-DPMC', 'DFA', 'DICOM',\n",
       "       'SGCP'], dtype=object)"
      ]
     },
     "execution_count": 16,
     "metadata": {},
     "output_type": "execute_result"
    }
   ],
   "source": [
    "assos_study['Direction'].unique()"
   ]
  },
  {
   "cell_type": "code",
   "execution_count": 17,
   "id": "e9be24ca",
   "metadata": {
    "scrolled": true
   },
   "outputs": [
    {
     "data": {
      "text/plain": [
       "array(['Fonctionnement', 'Non précisée', 'Projet', 'Investissement'],\n",
       "      dtype=object)"
      ]
     },
     "execution_count": 17,
     "metadata": {},
     "output_type": "execute_result"
    }
   ],
   "source": [
    "assos_study['Nature de la subvention'].unique()"
   ]
  },
  {
   "cell_type": "code",
   "execution_count": 18,
   "id": "98dccdab",
   "metadata": {},
   "outputs": [
    {
     "data": {
      "text/plain": [
       "array(['Loisirs', 'Environnement & écologie', 'Culture & Arts',\n",
       "       'Education & formation', 'Vie et animation locale', 'Emploi',\n",
       "       'Aides aux associations', 'Santé', 'Communication & média',\n",
       "       'Social', 'Humanitaire', 'Sport',\n",
       "       'Défense des droits et des intérêts', 'Economie', 'Mémoire',\n",
       "       'Précarité & Exclusion', 'Architecture & urbanisme',\n",
       "       'Idée & opinion', 'Relations internationales',\n",
       "       'Déplacements et transports', 'Tourisme', nan,\n",
       "       'Technique & Recherche'], dtype=object)"
      ]
     },
     "execution_count": 18,
     "metadata": {},
     "output_type": "execute_result"
    }
   ],
   "source": [
    "assos_study['Secteur Activité 1'].unique()"
   ]
  },
  {
   "cell_type": "code",
   "execution_count": 19,
   "id": "c8e989e5",
   "metadata": {},
   "outputs": [
    {
     "data": {
      "text/plain": [
       "array(['Social', 'Sport', 'Santé', nan, 'Mémoire',\n",
       "       'Précarité & Exclusion', 'Emploi', 'Environnement & écologie',\n",
       "       'Education & formation', 'Défense des droits et des intérêts',\n",
       "       'Vie et animation locale', 'Culture & Arts', 'Loisirs',\n",
       "       'Humanitaire', 'Relations internationales', 'Economie',\n",
       "       'Idée & opinion', 'Technique & Recherche', 'Tourisme',\n",
       "       'Déplacements et transports', 'Communication & média',\n",
       "       'Architecture & urbanisme'], dtype=object)"
      ]
     },
     "execution_count": 19,
     "metadata": {},
     "output_type": "execute_result"
    }
   ],
   "source": [
    "assos_study['Secteur Activité 2'].unique()"
   ]
  },
  {
   "cell_type": "code",
   "execution_count": 20,
   "id": "2a09334b",
   "metadata": {},
   "outputs": [
    {
     "data": {
      "text/plain": [
       "array(['Vie et animation locale', 'Sport', 'Social', nan,\n",
       "       'Précarité & Exclusion', 'Technique & Recherche',\n",
       "       'Environnement & écologie', 'Loisirs', 'Santé', 'Mémoire',\n",
       "       'Idée & opinion', 'Education & formation', 'Emploi', 'Tourisme',\n",
       "       'Relations internationales', 'Humanitaire', 'Economie',\n",
       "       'Culture & Arts', 'Défense des droits et des intérêts'],\n",
       "      dtype=object)"
      ]
     },
     "execution_count": 20,
     "metadata": {},
     "output_type": "execute_result"
    }
   ],
   "source": [
    "assos_study['Secteur Activité 3'].unique()"
   ]
  },
  {
   "cell_type": "code",
   "execution_count": 21,
   "id": "6cbd4414",
   "metadata": {},
   "outputs": [
    {
     "name": "stdout",
     "output_type": "stream",
     "text": [
      "<class 'pandas.core.frame.DataFrame'>\n",
      "RangeIndex: 25000 entries, 0 to 24999\n",
      "Data columns (total 12 columns):\n",
      " #   Column                   Non-Null Count  Dtype \n",
      "---  ------                   --------------  ----- \n",
      " 0   Numéro de dossier        25000 non-null  object\n",
      " 1   Année budgétaire         25000 non-null  int64 \n",
      " 2   Collectivité             25000 non-null  object\n",
      " 3   Nom Bénéficiaire         24992 non-null  object\n",
      " 4   Numéro Siret             24957 non-null  object\n",
      " 5   Objet du dossier         25000 non-null  object\n",
      " 6   Montant voté             25000 non-null  int64 \n",
      " 7   Direction                25000 non-null  object\n",
      " 8   Nature de la subvention  25000 non-null  object\n",
      " 9   Secteur Activité 1       24990 non-null  object\n",
      " 10  Secteur Activité 2       21031 non-null  object\n",
      " 11  Secteur Activité 3       17529 non-null  object\n",
      "dtypes: int64(2), object(10)\n",
      "memory usage: 2.3+ MB\n"
     ]
    }
   ],
   "source": [
    "assos_study.info(verbose = True, show_counts=True)"
   ]
  },
  {
   "cell_type": "code",
   "execution_count": 22,
   "id": "49beb734",
   "metadata": {},
   "outputs": [],
   "source": [
    "from pandas.api.types import CategoricalDtype\n",
    "dtype ={\n",
    "    'Année budgétaire':CategoricalDtype(categories=[2013, 2014, 2015, 2016, 2017, 2018, 2019, 2020], ordered=True),\n",
    "    'Collectivité':'category',\n",
    "    'Direction':'category',\n",
    "    'Nature de la subvention':'category',\n",
    "    'Secteur Activité 1':'category',\n",
    "    'Secteur Activité 2':'category',\n",
    "    'Secteur Activité 3':'category'\n",
    "}"
   ]
  },
  {
   "cell_type": "code",
   "execution_count": 23,
   "id": "557773e2",
   "metadata": {},
   "outputs": [],
   "source": [
    "assos_study = pandas.read_csv(\"subventions-accordees-et-refusees-split.csv\",sep=\";\",nrows=25000,dtype=dtype)"
   ]
  },
  {
   "cell_type": "code",
   "execution_count": 24,
   "id": "7a160d66",
   "metadata": {},
   "outputs": [
    {
     "name": "stdout",
     "output_type": "stream",
     "text": [
      "<class 'pandas.core.frame.DataFrame'>\n",
      "RangeIndex: 25000 entries, 0 to 24999\n",
      "Data columns (total 12 columns):\n",
      " #   Column                   Non-Null Count  Dtype   \n",
      "---  ------                   --------------  -----   \n",
      " 0   Numéro de dossier        25000 non-null  object  \n",
      " 1   Année budgétaire         25000 non-null  category\n",
      " 2   Collectivité             25000 non-null  category\n",
      " 3   Nom Bénéficiaire         24992 non-null  object  \n",
      " 4   Numéro Siret             24957 non-null  object  \n",
      " 5   Objet du dossier         25000 non-null  object  \n",
      " 6   Montant voté             25000 non-null  int64   \n",
      " 7   Direction                25000 non-null  category\n",
      " 8   Nature de la subvention  25000 non-null  category\n",
      " 9   Secteur Activité 1       24990 non-null  category\n",
      " 10  Secteur Activité 2       21031 non-null  category\n",
      " 11  Secteur Activité 3       17529 non-null  category\n",
      "dtypes: category(7), int64(1), object(4)\n",
      "memory usage: 1.1+ MB\n"
     ]
    }
   ],
   "source": [
    "assos_study.info(verbose = True, show_counts=True)"
   ]
  },
  {
   "cell_type": "code",
   "execution_count": 25,
   "id": "a19ced01",
   "metadata": {},
   "outputs": [
    {
     "name": "stderr",
     "output_type": "stream",
     "text": [
      "C:\\ProgramData\\Anaconda3\\lib\\site-packages\\IPython\\core\\interactiveshell.py:3444: DtypeWarning: Columns (4) have mixed types.Specify dtype option on import or set low_memory=False.\n",
      "  exec(code_obj, self.user_global_ns, self.user_ns)\n"
     ]
    }
   ],
   "source": [
    "assos = pandas.read_csv(\"subventions-accordees-et-refusees-split.csv\",sep=\";\",dtype=dtype)"
   ]
  },
  {
   "cell_type": "code",
   "execution_count": 26,
   "id": "0c6d59a1",
   "metadata": {},
   "outputs": [
    {
     "name": "stdout",
     "output_type": "stream",
     "text": [
      "<class 'pandas.core.frame.DataFrame'>\n",
      "RangeIndex: 73034 entries, 0 to 73033\n",
      "Data columns (total 12 columns):\n",
      " #   Column                   Non-Null Count  Dtype   \n",
      "---  ------                   --------------  -----   \n",
      " 0   Numéro de dossier        73034 non-null  object  \n",
      " 1   Année budgétaire         69690 non-null  category\n",
      " 2   Collectivité             73034 non-null  category\n",
      " 3   Nom Bénéficiaire         73013 non-null  object  \n",
      " 4   Numéro Siret             72843 non-null  object  \n",
      " 5   Objet du dossier         73034 non-null  object  \n",
      " 6   Montant voté             73034 non-null  int64   \n",
      " 7   Direction                73034 non-null  category\n",
      " 8   Nature de la subvention  73034 non-null  category\n",
      " 9   Secteur Activité 1       72994 non-null  category\n",
      " 10  Secteur Activité 2       61353 non-null  category\n",
      " 11  Secteur Activité 3       51102 non-null  category\n",
      "dtypes: category(7), int64(1), object(4)\n",
      "memory usage: 3.3+ MB\n"
     ]
    }
   ],
   "source": [
    "assos.info(verbose = True, show_counts=True)"
   ]
  },
  {
   "cell_type": "markdown",
   "id": "6406c3a4",
   "metadata": {},
   "source": [
    "La mémoire n'occupe plus que 3,3 MB contre 6,7 MB tout à l'heure."
   ]
  },
  {
   "cell_type": "markdown",
   "id": "78895b18",
   "metadata": {},
   "source": [
    "## Analyse descriptive des données"
   ]
  },
  {
   "cell_type": "markdown",
   "id": "49c33e66",
   "metadata": {},
   "source": [
    "Montant total des subventions votées par exercice budgétaire "
   ]
  },
  {
   "cell_type": "code",
   "execution_count": 29,
   "id": "bfe08192",
   "metadata": {},
   "outputs": [
    {
     "data": {
      "text/plain": [
       "Année budgétaire\n",
       "2013    240502938\n",
       "2014    258237727\n",
       "2015    270822332\n",
       "2016    275349227\n",
       "2017    276239759\n",
       "2018    271370958\n",
       "2019    291287234\n",
       "2020    295523457\n",
       "Name: Montant voté, dtype: int64"
      ]
     },
     "execution_count": 29,
     "metadata": {},
     "output_type": "execute_result"
    }
   ],
   "source": [
    "amount_year = assos.groupby(['Année budgétaire'])[('Montant voté')].sum()\n",
    "amount_year"
   ]
  },
  {
   "cell_type": "markdown",
   "id": "5157dfc9",
   "metadata": {},
   "source": [
    " Les 20 premières associations bénéficiaires par montants votés "
   ]
  },
  {
   "cell_type": "code",
   "execution_count": null,
   "id": "80e2e85b",
   "metadata": {},
   "outputs": [],
   "source": []
  },
  {
   "cell_type": "code",
   "execution_count": null,
   "id": "2c53949d",
   "metadata": {},
   "outputs": [],
   "source": []
  },
  {
   "cell_type": "markdown",
   "id": "49d5ed44",
   "metadata": {},
   "source": [
    "## Analyse en composante principale"
   ]
  }
 ],
 "metadata": {
  "kernelspec": {
   "display_name": "Python 3 (ipykernel)",
   "language": "python",
   "name": "python3"
  },
  "language_info": {
   "codemirror_mode": {
    "name": "ipython",
    "version": 3
   },
   "file_extension": ".py",
   "mimetype": "text/x-python",
   "name": "python",
   "nbconvert_exporter": "python",
   "pygments_lexer": "ipython3",
   "version": "3.9.7"
  }
 },
 "nbformat": 4,
 "nbformat_minor": 5
}
