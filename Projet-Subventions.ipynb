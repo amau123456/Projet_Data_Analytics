{
 "cells": [
  {
   "cell_type": "markdown",
   "id": "ef1790a8",
   "metadata": {},
   "source": [
    "# Projet - Analyse de données - Subvention des Associations"
   ]
  },
  {
   "cell_type": "markdown",
   "id": "f958e26a",
   "metadata": {},
   "source": [
    "### Amaury Richard & Victoire Flesselles"
   ]
  },
  {
   "cell_type": "markdown",
   "id": "97be0d88",
   "metadata": {},
   "source": [
    "## Données utilisées"
   ]
  },
  {
   "cell_type": "markdown",
   "id": "fb0219d6",
   "metadata": {},
   "source": [
    "Nous allons étudier la répartition des subventions accordées aux différentes associations parisiennes sur 8 ans de 2013 à 2020. La documentation de la source de données est disponible [ici](https://opendata.paris.fr/explore/dataset/subventions-accordees-et-refusees/information/?disjunctive.collectivite&disjunctive.nom_beneficiaire&disjunctive.direction&disjunctive.secteurs_d_activites_definies_par_l_association&fbclid=IwAR3XJekkoUasIjGTl346zJSyoJCs4rmpXmQAwNcqLOcPfIdz8MaIro_dUUs&dataChart=eyJxdWVyaWVzIjpbeyJjaGFydHMiOlt7InR5cGUiOiJwaWUiLCJmdW5jIjoiU1VNIiwieUF4aXMiOiJtb250YW50X3ZvdGUiLCJzY2llbnRpZmljRGlzcGxheSI6dHJ1ZSwiY29sb3IiOiJyYW5nZS1QYWlyZWQiLCJwb3NpdGlvbiI6ImNlbnRlciJ9XSwieEF4aXMiOiJuYXR1cmVfZGVfbGFfc3VidmVudGlvbiIsIm1heHBvaW50cyI6MTAwLCJzb3J0Ijoic2VyaWUxLTEiLCJzZXJpZXNCcmVha2Rvd24iOiIiLCJzZXJpZXNCcmVha2Rvd25UaW1lc2NhbGUiOiIiLCJ0aW1lc2NhbGUiOiIiLCJjb25maWciOnsiZGF0YXNldCI6InN1YnZlbnRpb25zLWFjY29yZGVlcy1ldC1yZWZ1c2VlcyIsIm9wdGlvbnMiOnsiZGlzanVuY3RpdmUuY29sbGVjdGl2aXRlIjp0cnVlLCJkaXNqdW5jdGl2ZS5ub21fYmVuZWZpY2lhaXJlIjp0cnVlLCJkaXNqdW5jdGl2ZS5kaXJlY3Rpb24iOnRydWUsImRpc2p1bmN0aXZlLnNlY3RldXJzX2RfYWN0aXZpdGVzX2RlZmluaWVzX3Bhcl9sX2Fzc29jaWF0aW9uIjp0cnVlLCJmYmNsaWQiOiJJd0FSM1hKZWtrb1Vhc0lqR1RsMzQ2ekpTeW9KQ3M0cm1wWG1RQXdOY3FMT2NQZklkejhNYUlyb19kVVVzIn19fV0sInRpbWVzY2FsZSI6IiIsImRpc3BsYXlMZWdlbmQiOnRydWUsImFsaWduTW9udGgiOnRydWV9)."
   ]
  },
  {
   "cell_type": "markdown",
   "id": "a6df3286",
   "metadata": {},
   "source": [
    "## Import des données"
   ]
  },
  {
   "cell_type": "code",
   "execution_count": 1,
   "id": "74e0abd1",
   "metadata": {},
   "outputs": [],
   "source": [
    "import pandas"
   ]
  },
  {
   "cell_type": "code",
   "execution_count": 2,
   "id": "5ccebe5b",
   "metadata": {},
   "outputs": [],
   "source": [
    "import matplotlib as plt"
   ]
  },
  {
   "cell_type": "code",
   "execution_count": 3,
   "id": "ae305a77",
   "metadata": {
    "scrolled": true
   },
   "outputs": [
    {
     "name": "stderr",
     "output_type": "stream",
     "text": [
      "/opt/anaconda3/lib/python3.9/site-packages/IPython/core/interactiveshell.py:3444: DtypeWarning: Columns (4) have mixed types.Specify dtype option on import or set low_memory=False.\n",
      "  exec(code_obj, self.user_global_ns, self.user_ns)\n"
     ]
    }
   ],
   "source": [
    "assos = pandas.read_csv(\"subventions-accordees-et-refusees.csv\",sep=\";\")"
   ]
  },
  {
   "cell_type": "markdown",
   "id": "4e40a696",
   "metadata": {},
   "source": [
    "Vérifions que le fichier ait bien chargé"
   ]
  },
  {
   "cell_type": "code",
   "execution_count": 4,
   "id": "862841dd",
   "metadata": {
    "scrolled": true
   },
   "outputs": [
    {
     "data": {
      "text/html": [
       "<div>\n",
       "<style scoped>\n",
       "    .dataframe tbody tr th:only-of-type {\n",
       "        vertical-align: middle;\n",
       "    }\n",
       "\n",
       "    .dataframe tbody tr th {\n",
       "        vertical-align: top;\n",
       "    }\n",
       "\n",
       "    .dataframe thead th {\n",
       "        text-align: right;\n",
       "    }\n",
       "</style>\n",
       "<table border=\"1\" class=\"dataframe\">\n",
       "  <thead>\n",
       "    <tr style=\"text-align: right;\">\n",
       "      <th></th>\n",
       "      <th>Numéro de dossier</th>\n",
       "      <th>Année budgétaire</th>\n",
       "      <th>Collectivité</th>\n",
       "      <th>Nom Bénéficiaire</th>\n",
       "      <th>Numéro Siret</th>\n",
       "      <th>Objet du dossier</th>\n",
       "      <th>Montant voté</th>\n",
       "      <th>Direction</th>\n",
       "      <th>Nature de la subvention</th>\n",
       "      <th>Secteurs d'activités définies par l'association</th>\n",
       "    </tr>\n",
       "  </thead>\n",
       "  <tbody>\n",
       "    <tr>\n",
       "      <th>0</th>\n",
       "      <td>2020_07586</td>\n",
       "      <td>2020</td>\n",
       "      <td>Ville de Paris</td>\n",
       "      <td>13 POUR TOUS</td>\n",
       "      <td>48905531900029</td>\n",
       "      <td>Co-financement DDCT d'un poste adultes-relais ...</td>\n",
       "      <td>4700</td>\n",
       "      <td>DDCT</td>\n",
       "      <td>Fonctionnement</td>\n",
       "      <td>Loisirs;Social;Vie et animation locale</td>\n",
       "    </tr>\n",
       "    <tr>\n",
       "      <th>1</th>\n",
       "      <td>2020_08053</td>\n",
       "      <td>2020</td>\n",
       "      <td>Ville de Paris</td>\n",
       "      <td>13 POUR TOUS</td>\n",
       "      <td>48905531900029</td>\n",
       "      <td>CS 2020/DASES SEPLEX</td>\n",
       "      <td>209692</td>\n",
       "      <td>DASES</td>\n",
       "      <td>Fonctionnement</td>\n",
       "      <td>Loisirs;Social;Vie et animation locale</td>\n",
       "    </tr>\n",
       "    <tr>\n",
       "      <th>2</th>\n",
       "      <td>2020_04885</td>\n",
       "      <td>2020</td>\n",
       "      <td>Ville de Paris</td>\n",
       "      <td>3 S : SEJOUR SPORTIF SOLIDAIRE</td>\n",
       "      <td>81147565600013</td>\n",
       "      <td>Ressourcerie Ephémère</td>\n",
       "      <td>0</td>\n",
       "      <td>DAE</td>\n",
       "      <td>Non précisée</td>\n",
       "      <td>Environnement &amp; écologie;Sport;Vie et animatio...</td>\n",
       "    </tr>\n",
       "    <tr>\n",
       "      <th>3</th>\n",
       "      <td>2020_05032</td>\n",
       "      <td>2020</td>\n",
       "      <td>Ville de Paris</td>\n",
       "      <td>4 A 4 DIX HUIT</td>\n",
       "      <td>48909505900015</td>\n",
       "      <td>De Mômes et d'opérette : Des grottes de Lascau...</td>\n",
       "      <td>0</td>\n",
       "      <td>DASCO</td>\n",
       "      <td>Non précisée</td>\n",
       "      <td>Culture &amp; Arts;Social;Sport</td>\n",
       "    </tr>\n",
       "    <tr>\n",
       "      <th>4</th>\n",
       "      <td>2020_02992</td>\n",
       "      <td>2020</td>\n",
       "      <td>Ville de Paris</td>\n",
       "      <td>ABC PUERICULTURE</td>\n",
       "      <td>34482479200032</td>\n",
       "      <td>Fonctionnement 2020 cité des ours 14 cité fala...</td>\n",
       "      <td>217134</td>\n",
       "      <td>DFPE</td>\n",
       "      <td>Fonctionnement</td>\n",
       "      <td>Education &amp; formation;Santé;Social</td>\n",
       "    </tr>\n",
       "  </tbody>\n",
       "</table>\n",
       "</div>"
      ],
      "text/plain": [
       "  Numéro de dossier  Année budgétaire    Collectivité  \\\n",
       "0        2020_07586              2020  Ville de Paris   \n",
       "1        2020_08053              2020  Ville de Paris   \n",
       "2        2020_04885              2020  Ville de Paris   \n",
       "3        2020_05032              2020  Ville de Paris   \n",
       "4        2020_02992              2020  Ville de Paris   \n",
       "\n",
       "                 Nom Bénéficiaire    Numéro Siret  \\\n",
       "0                    13 POUR TOUS  48905531900029   \n",
       "1                    13 POUR TOUS  48905531900029   \n",
       "2  3 S : SEJOUR SPORTIF SOLIDAIRE  81147565600013   \n",
       "3                  4 A 4 DIX HUIT  48909505900015   \n",
       "4                ABC PUERICULTURE  34482479200032   \n",
       "\n",
       "                                    Objet du dossier  Montant voté Direction  \\\n",
       "0  Co-financement DDCT d'un poste adultes-relais ...          4700      DDCT   \n",
       "1                               CS 2020/DASES SEPLEX        209692     DASES   \n",
       "2                              Ressourcerie Ephémère             0       DAE   \n",
       "3  De Mômes et d'opérette : Des grottes de Lascau...             0     DASCO   \n",
       "4  Fonctionnement 2020 cité des ours 14 cité fala...        217134      DFPE   \n",
       "\n",
       "  Nature de la subvention    Secteurs d'activités définies par l'association  \n",
       "0          Fonctionnement             Loisirs;Social;Vie et animation locale  \n",
       "1          Fonctionnement             Loisirs;Social;Vie et animation locale  \n",
       "2            Non précisée  Environnement & écologie;Sport;Vie et animatio...  \n",
       "3            Non précisée                        Culture & Arts;Social;Sport  \n",
       "4          Fonctionnement                 Education & formation;Santé;Social  "
      ]
     },
     "execution_count": 4,
     "metadata": {},
     "output_type": "execute_result"
    }
   ],
   "source": [
    "assos.head()"
   ]
  },
  {
   "cell_type": "markdown",
   "id": "0f26d562",
   "metadata": {},
   "source": [
    "## Préparer les données pour les exploiter correctement"
   ]
  },
  {
   "cell_type": "markdown",
   "id": "a0fe6d5f",
   "metadata": {},
   "source": [
    "La documentation nous informe que la colonne \"Secteurs d'activités définies par l'association\" comporte au maximum trois attributs. Nous allons spliter les attributs de cette colonne afin de les exploiter par la suite."
   ]
  },
  {
   "cell_type": "code",
   "execution_count": 5,
   "id": "f38c8cd8",
   "metadata": {},
   "outputs": [],
   "source": [
    "assos[\"Secteurs d'activités définies par l'association\"].str.split(\";\",expand=True)[0]\n",
    "\n",
    "assos.insert(10,\"Secteur Activité 1\",assos[\"Secteurs d'activités définies par l'association\"].str.split(\";\",expand=True)[0])\n",
    "assos.insert(11,\"Secteur Activité 2\",assos[\"Secteurs d'activités définies par l'association\"].str.split(\";\",expand=True)[1])\n",
    "assos.insert(12,\"Secteur Activité 3\",assos[\"Secteurs d'activités définies par l'association\"].str.split(\";\",expand=True)[2])\n",
    "del assos[\"Secteurs d'activités définies par l'association\"]"
   ]
  },
  {
   "cell_type": "code",
   "execution_count": 6,
   "id": "759a62c6",
   "metadata": {},
   "outputs": [
    {
     "data": {
      "text/html": [
       "<div>\n",
       "<style scoped>\n",
       "    .dataframe tbody tr th:only-of-type {\n",
       "        vertical-align: middle;\n",
       "    }\n",
       "\n",
       "    .dataframe tbody tr th {\n",
       "        vertical-align: top;\n",
       "    }\n",
       "\n",
       "    .dataframe thead th {\n",
       "        text-align: right;\n",
       "    }\n",
       "</style>\n",
       "<table border=\"1\" class=\"dataframe\">\n",
       "  <thead>\n",
       "    <tr style=\"text-align: right;\">\n",
       "      <th></th>\n",
       "      <th>Numéro de dossier</th>\n",
       "      <th>Année budgétaire</th>\n",
       "      <th>Collectivité</th>\n",
       "      <th>Nom Bénéficiaire</th>\n",
       "      <th>Numéro Siret</th>\n",
       "      <th>Objet du dossier</th>\n",
       "      <th>Montant voté</th>\n",
       "      <th>Direction</th>\n",
       "      <th>Nature de la subvention</th>\n",
       "      <th>Secteur Activité 1</th>\n",
       "      <th>Secteur Activité 2</th>\n",
       "      <th>Secteur Activité 3</th>\n",
       "    </tr>\n",
       "  </thead>\n",
       "  <tbody>\n",
       "    <tr>\n",
       "      <th>0</th>\n",
       "      <td>2020_07586</td>\n",
       "      <td>2020</td>\n",
       "      <td>Ville de Paris</td>\n",
       "      <td>13 POUR TOUS</td>\n",
       "      <td>48905531900029</td>\n",
       "      <td>Co-financement DDCT d'un poste adultes-relais ...</td>\n",
       "      <td>4700</td>\n",
       "      <td>DDCT</td>\n",
       "      <td>Fonctionnement</td>\n",
       "      <td>Loisirs</td>\n",
       "      <td>Social</td>\n",
       "      <td>Vie et animation locale</td>\n",
       "    </tr>\n",
       "    <tr>\n",
       "      <th>1</th>\n",
       "      <td>2020_08053</td>\n",
       "      <td>2020</td>\n",
       "      <td>Ville de Paris</td>\n",
       "      <td>13 POUR TOUS</td>\n",
       "      <td>48905531900029</td>\n",
       "      <td>CS 2020/DASES SEPLEX</td>\n",
       "      <td>209692</td>\n",
       "      <td>DASES</td>\n",
       "      <td>Fonctionnement</td>\n",
       "      <td>Loisirs</td>\n",
       "      <td>Social</td>\n",
       "      <td>Vie et animation locale</td>\n",
       "    </tr>\n",
       "    <tr>\n",
       "      <th>2</th>\n",
       "      <td>2020_04885</td>\n",
       "      <td>2020</td>\n",
       "      <td>Ville de Paris</td>\n",
       "      <td>3 S : SEJOUR SPORTIF SOLIDAIRE</td>\n",
       "      <td>81147565600013</td>\n",
       "      <td>Ressourcerie Ephémère</td>\n",
       "      <td>0</td>\n",
       "      <td>DAE</td>\n",
       "      <td>Non précisée</td>\n",
       "      <td>Environnement &amp; écologie</td>\n",
       "      <td>Sport</td>\n",
       "      <td>Vie et animation locale</td>\n",
       "    </tr>\n",
       "    <tr>\n",
       "      <th>3</th>\n",
       "      <td>2020_05032</td>\n",
       "      <td>2020</td>\n",
       "      <td>Ville de Paris</td>\n",
       "      <td>4 A 4 DIX HUIT</td>\n",
       "      <td>48909505900015</td>\n",
       "      <td>De Mômes et d'opérette : Des grottes de Lascau...</td>\n",
       "      <td>0</td>\n",
       "      <td>DASCO</td>\n",
       "      <td>Non précisée</td>\n",
       "      <td>Culture &amp; Arts</td>\n",
       "      <td>Social</td>\n",
       "      <td>Sport</td>\n",
       "    </tr>\n",
       "    <tr>\n",
       "      <th>4</th>\n",
       "      <td>2020_02992</td>\n",
       "      <td>2020</td>\n",
       "      <td>Ville de Paris</td>\n",
       "      <td>ABC PUERICULTURE</td>\n",
       "      <td>34482479200032</td>\n",
       "      <td>Fonctionnement 2020 cité des ours 14 cité fala...</td>\n",
       "      <td>217134</td>\n",
       "      <td>DFPE</td>\n",
       "      <td>Fonctionnement</td>\n",
       "      <td>Education &amp; formation</td>\n",
       "      <td>Santé</td>\n",
       "      <td>Social</td>\n",
       "    </tr>\n",
       "  </tbody>\n",
       "</table>\n",
       "</div>"
      ],
      "text/plain": [
       "  Numéro de dossier  Année budgétaire    Collectivité  \\\n",
       "0        2020_07586              2020  Ville de Paris   \n",
       "1        2020_08053              2020  Ville de Paris   \n",
       "2        2020_04885              2020  Ville de Paris   \n",
       "3        2020_05032              2020  Ville de Paris   \n",
       "4        2020_02992              2020  Ville de Paris   \n",
       "\n",
       "                 Nom Bénéficiaire    Numéro Siret  \\\n",
       "0                    13 POUR TOUS  48905531900029   \n",
       "1                    13 POUR TOUS  48905531900029   \n",
       "2  3 S : SEJOUR SPORTIF SOLIDAIRE  81147565600013   \n",
       "3                  4 A 4 DIX HUIT  48909505900015   \n",
       "4                ABC PUERICULTURE  34482479200032   \n",
       "\n",
       "                                    Objet du dossier  Montant voté Direction  \\\n",
       "0  Co-financement DDCT d'un poste adultes-relais ...          4700      DDCT   \n",
       "1                               CS 2020/DASES SEPLEX        209692     DASES   \n",
       "2                              Ressourcerie Ephémère             0       DAE   \n",
       "3  De Mômes et d'opérette : Des grottes de Lascau...             0     DASCO   \n",
       "4  Fonctionnement 2020 cité des ours 14 cité fala...        217134      DFPE   \n",
       "\n",
       "  Nature de la subvention        Secteur Activité 1 Secteur Activité 2  \\\n",
       "0          Fonctionnement                   Loisirs             Social   \n",
       "1          Fonctionnement                   Loisirs             Social   \n",
       "2            Non précisée  Environnement & écologie              Sport   \n",
       "3            Non précisée            Culture & Arts             Social   \n",
       "4          Fonctionnement     Education & formation              Santé   \n",
       "\n",
       "        Secteur Activité 3  \n",
       "0  Vie et animation locale  \n",
       "1  Vie et animation locale  \n",
       "2  Vie et animation locale  \n",
       "3                    Sport  \n",
       "4                   Social  "
      ]
     },
     "execution_count": 6,
     "metadata": {},
     "output_type": "execute_result"
    }
   ],
   "source": [
    "assos.head()"
   ]
  },
  {
   "cell_type": "markdown",
   "id": "209801fd",
   "metadata": {},
   "source": [
    "Nous allons enregistrer ce fichier \"splité\"."
   ]
  },
  {
   "cell_type": "code",
   "execution_count": 7,
   "id": "9047a59b",
   "metadata": {},
   "outputs": [],
   "source": [
    "assos.to_csv('./subventions-accordees-et-refusees-split.csv',sep=';',index=False)"
   ]
  },
  {
   "cell_type": "markdown",
   "id": "dfce5398",
   "metadata": {},
   "source": [
    "## Nettoyer et alléger les données"
   ]
  },
  {
   "cell_type": "markdown",
   "id": "8503f361",
   "metadata": {},
   "source": [
    "Regardons les informations techniques du tableau."
   ]
  },
  {
   "cell_type": "code",
   "execution_count": 8,
   "id": "5fd2567c",
   "metadata": {},
   "outputs": [
    {
     "name": "stdout",
     "output_type": "stream",
     "text": [
      "<class 'pandas.core.frame.DataFrame'>\n",
      "RangeIndex: 73034 entries, 0 to 73033\n",
      "Data columns (total 12 columns):\n",
      " #   Column                   Non-Null Count  Dtype \n",
      "---  ------                   --------------  ----- \n",
      " 0   Numéro de dossier        73034 non-null  object\n",
      " 1   Année budgétaire         73034 non-null  int64 \n",
      " 2   Collectivité             73034 non-null  object\n",
      " 3   Nom Bénéficiaire         73013 non-null  object\n",
      " 4   Numéro Siret             72843 non-null  object\n",
      " 5   Objet du dossier         73034 non-null  object\n",
      " 6   Montant voté             73034 non-null  int64 \n",
      " 7   Direction                73034 non-null  object\n",
      " 8   Nature de la subvention  73034 non-null  object\n",
      " 9   Secteur Activité 1       72994 non-null  object\n",
      " 10  Secteur Activité 2       61353 non-null  object\n",
      " 11  Secteur Activité 3       51102 non-null  object\n",
      "dtypes: int64(2), object(10)\n",
      "memory usage: 6.7+ MB\n"
     ]
    }
   ],
   "source": [
    "assos.info(verbose = True, show_counts=True)"
   ]
  },
  {
   "cell_type": "markdown",
   "id": "90e57cef",
   "metadata": {},
   "source": [
    "On remarque que la mémoire utilise 6,7 MB de stockage."
   ]
  },
  {
   "cell_type": "markdown",
   "id": "a2fc3b3a",
   "metadata": {},
   "source": [
    "Nous allons étudier la tendance sur les 5000 premières lignes pour alléger les données et l'espace mémoire."
   ]
  },
  {
   "cell_type": "code",
   "execution_count": 9,
   "id": "a278defb",
   "metadata": {},
   "outputs": [],
   "source": [
    "assos_study = pandas.read_csv(\"subventions-accordees-et-refusees-split.csv\",sep=\";\",nrows=25000)"
   ]
  },
  {
   "cell_type": "code",
   "execution_count": 10,
   "id": "166248c6",
   "metadata": {},
   "outputs": [
    {
     "data": {
      "text/html": [
       "<div>\n",
       "<style scoped>\n",
       "    .dataframe tbody tr th:only-of-type {\n",
       "        vertical-align: middle;\n",
       "    }\n",
       "\n",
       "    .dataframe tbody tr th {\n",
       "        vertical-align: top;\n",
       "    }\n",
       "\n",
       "    .dataframe thead th {\n",
       "        text-align: right;\n",
       "    }\n",
       "</style>\n",
       "<table border=\"1\" class=\"dataframe\">\n",
       "  <thead>\n",
       "    <tr style=\"text-align: right;\">\n",
       "      <th></th>\n",
       "      <th>Numéro de dossier</th>\n",
       "      <th>Année budgétaire</th>\n",
       "      <th>Collectivité</th>\n",
       "      <th>Nom Bénéficiaire</th>\n",
       "      <th>Numéro Siret</th>\n",
       "      <th>Objet du dossier</th>\n",
       "      <th>Montant voté</th>\n",
       "      <th>Direction</th>\n",
       "      <th>Nature de la subvention</th>\n",
       "      <th>Secteur Activité 1</th>\n",
       "      <th>Secteur Activité 2</th>\n",
       "      <th>Secteur Activité 3</th>\n",
       "    </tr>\n",
       "  </thead>\n",
       "  <tbody>\n",
       "    <tr>\n",
       "      <th>0</th>\n",
       "      <td>2020_07586</td>\n",
       "      <td>2020</td>\n",
       "      <td>Ville de Paris</td>\n",
       "      <td>13 POUR TOUS</td>\n",
       "      <td>48905531900029</td>\n",
       "      <td>Co-financement DDCT d'un poste adultes-relais ...</td>\n",
       "      <td>4700</td>\n",
       "      <td>DDCT</td>\n",
       "      <td>Fonctionnement</td>\n",
       "      <td>Loisirs</td>\n",
       "      <td>Social</td>\n",
       "      <td>Vie et animation locale</td>\n",
       "    </tr>\n",
       "    <tr>\n",
       "      <th>1</th>\n",
       "      <td>2020_08053</td>\n",
       "      <td>2020</td>\n",
       "      <td>Ville de Paris</td>\n",
       "      <td>13 POUR TOUS</td>\n",
       "      <td>48905531900029</td>\n",
       "      <td>CS 2020/DASES SEPLEX</td>\n",
       "      <td>209692</td>\n",
       "      <td>DASES</td>\n",
       "      <td>Fonctionnement</td>\n",
       "      <td>Loisirs</td>\n",
       "      <td>Social</td>\n",
       "      <td>Vie et animation locale</td>\n",
       "    </tr>\n",
       "    <tr>\n",
       "      <th>2</th>\n",
       "      <td>2020_04885</td>\n",
       "      <td>2020</td>\n",
       "      <td>Ville de Paris</td>\n",
       "      <td>3 S : SEJOUR SPORTIF SOLIDAIRE</td>\n",
       "      <td>81147565600013</td>\n",
       "      <td>Ressourcerie Ephémère</td>\n",
       "      <td>0</td>\n",
       "      <td>DAE</td>\n",
       "      <td>Non précisée</td>\n",
       "      <td>Environnement &amp; écologie</td>\n",
       "      <td>Sport</td>\n",
       "      <td>Vie et animation locale</td>\n",
       "    </tr>\n",
       "    <tr>\n",
       "      <th>3</th>\n",
       "      <td>2020_05032</td>\n",
       "      <td>2020</td>\n",
       "      <td>Ville de Paris</td>\n",
       "      <td>4 A 4 DIX HUIT</td>\n",
       "      <td>48909505900015</td>\n",
       "      <td>De Mômes et d'opérette : Des grottes de Lascau...</td>\n",
       "      <td>0</td>\n",
       "      <td>DASCO</td>\n",
       "      <td>Non précisée</td>\n",
       "      <td>Culture &amp; Arts</td>\n",
       "      <td>Social</td>\n",
       "      <td>Sport</td>\n",
       "    </tr>\n",
       "    <tr>\n",
       "      <th>4</th>\n",
       "      <td>2020_02992</td>\n",
       "      <td>2020</td>\n",
       "      <td>Ville de Paris</td>\n",
       "      <td>ABC PUERICULTURE</td>\n",
       "      <td>34482479200032</td>\n",
       "      <td>Fonctionnement 2020 cité des ours 14 cité fala...</td>\n",
       "      <td>217134</td>\n",
       "      <td>DFPE</td>\n",
       "      <td>Fonctionnement</td>\n",
       "      <td>Education &amp; formation</td>\n",
       "      <td>Santé</td>\n",
       "      <td>Social</td>\n",
       "    </tr>\n",
       "  </tbody>\n",
       "</table>\n",
       "</div>"
      ],
      "text/plain": [
       "  Numéro de dossier  Année budgétaire    Collectivité  \\\n",
       "0        2020_07586              2020  Ville de Paris   \n",
       "1        2020_08053              2020  Ville de Paris   \n",
       "2        2020_04885              2020  Ville de Paris   \n",
       "3        2020_05032              2020  Ville de Paris   \n",
       "4        2020_02992              2020  Ville de Paris   \n",
       "\n",
       "                 Nom Bénéficiaire    Numéro Siret  \\\n",
       "0                    13 POUR TOUS  48905531900029   \n",
       "1                    13 POUR TOUS  48905531900029   \n",
       "2  3 S : SEJOUR SPORTIF SOLIDAIRE  81147565600013   \n",
       "3                  4 A 4 DIX HUIT  48909505900015   \n",
       "4                ABC PUERICULTURE  34482479200032   \n",
       "\n",
       "                                    Objet du dossier  Montant voté Direction  \\\n",
       "0  Co-financement DDCT d'un poste adultes-relais ...          4700      DDCT   \n",
       "1                               CS 2020/DASES SEPLEX        209692     DASES   \n",
       "2                              Ressourcerie Ephémère             0       DAE   \n",
       "3  De Mômes et d'opérette : Des grottes de Lascau...             0     DASCO   \n",
       "4  Fonctionnement 2020 cité des ours 14 cité fala...        217134      DFPE   \n",
       "\n",
       "  Nature de la subvention        Secteur Activité 1 Secteur Activité 2  \\\n",
       "0          Fonctionnement                   Loisirs             Social   \n",
       "1          Fonctionnement                   Loisirs             Social   \n",
       "2            Non précisée  Environnement & écologie              Sport   \n",
       "3            Non précisée            Culture & Arts             Social   \n",
       "4          Fonctionnement     Education & formation              Santé   \n",
       "\n",
       "        Secteur Activité 3  \n",
       "0  Vie et animation locale  \n",
       "1  Vie et animation locale  \n",
       "2  Vie et animation locale  \n",
       "3                    Sport  \n",
       "4                   Social  "
      ]
     },
     "execution_count": 10,
     "metadata": {},
     "output_type": "execute_result"
    }
   ],
   "source": [
    "assos_study.head()"
   ]
  },
  {
   "cell_type": "markdown",
   "id": "f1f48702",
   "metadata": {},
   "source": [
    "Affichons le type de données et le nombre de valeurs non nulles dans chaque colonne."
   ]
  },
  {
   "cell_type": "code",
   "execution_count": 11,
   "id": "805831ac",
   "metadata": {
    "scrolled": true
   },
   "outputs": [
    {
     "name": "stdout",
     "output_type": "stream",
     "text": [
      "<class 'pandas.core.frame.DataFrame'>\n",
      "RangeIndex: 25000 entries, 0 to 24999\n",
      "Data columns (total 12 columns):\n",
      " #   Column                   Non-Null Count  Dtype \n",
      "---  ------                   --------------  ----- \n",
      " 0   Numéro de dossier        25000 non-null  object\n",
      " 1   Année budgétaire         25000 non-null  int64 \n",
      " 2   Collectivité             25000 non-null  object\n",
      " 3   Nom Bénéficiaire         24992 non-null  object\n",
      " 4   Numéro Siret             24957 non-null  object\n",
      " 5   Objet du dossier         25000 non-null  object\n",
      " 6   Montant voté             25000 non-null  int64 \n",
      " 7   Direction                25000 non-null  object\n",
      " 8   Nature de la subvention  25000 non-null  object\n",
      " 9   Secteur Activité 1       24990 non-null  object\n",
      " 10  Secteur Activité 2       21031 non-null  object\n",
      " 11  Secteur Activité 3       17529 non-null  object\n",
      "dtypes: int64(2), object(10)\n",
      "memory usage: 2.3+ MB\n"
     ]
    }
   ],
   "source": [
    "assos_study.info(verbose = True, show_counts=True)"
   ]
  },
  {
   "cell_type": "code",
   "execution_count": 12,
   "id": "7c9c4762",
   "metadata": {},
   "outputs": [
    {
     "data": {
      "text/plain": [
       "<AxesSubplot:ylabel='Frequency'>"
      ]
     },
     "execution_count": 12,
     "metadata": {},
     "output_type": "execute_result"
    },
    {
     "data": {
      "image/png": "[encoded data removed]",
      "text/plain": [
       "<Figure size 432x288 with 1 Axes>"
      ]
     },
     "metadata": {
      "needs_background": "light"
     },
     "output_type": "display_data"
    }
   ],
   "source": [
    "column_count = assos_study.count()\n",
    "column_count.plot.hist()"
   ]
  },
  {
   "cell_type": "markdown",
   "id": "40db23f6",
   "metadata": {},
   "source": [
    "Au vu des résultats ci-dessus, nous avons décidé de garder toutes les colonnes qui sont pour la plupart totalement remplies."
   ]
  },
  {
   "cell_type": "markdown",
   "id": "520e5f4d",
   "metadata": {},
   "source": [
    "## Gagner de l'espace mémoire en modifiant le type de données"
   ]
  },
  {
   "cell_type": "code",
   "execution_count": 13,
   "id": "c63a192c",
   "metadata": {},
   "outputs": [
    {
     "data": {
      "text/plain": [
       "Numéro de dossier          24995\n",
       "Année budgétaire               8\n",
       "Collectivité                   2\n",
       "Nom Bénéficiaire            6326\n",
       "Numéro Siret                6015\n",
       "Objet du dossier           18616\n",
       "Montant voté                2170\n",
       "Direction                     25\n",
       "Nature de la subvention        4\n",
       "Secteur Activité 1            22\n",
       "Secteur Activité 2            21\n",
       "Secteur Activité 3            18\n",
       "dtype: int64"
      ]
     },
     "execution_count": 13,
     "metadata": {},
     "output_type": "execute_result"
    }
   ],
   "source": [
    "assos_study.nunique()"
   ]
  },
  {
   "cell_type": "markdown",
   "id": "2f74a233",
   "metadata": {},
   "source": [
    "Regardons quelles valeurs sont récurrentes dans les colonnes avec peu de valeurs uniques."
   ]
  },
  {
   "cell_type": "code",
   "execution_count": 14,
   "id": "b4c290da",
   "metadata": {},
   "outputs": [
    {
     "data": {
      "text/plain": [
       "array([2020, 2019, 2017, 2018, 2016, 2013, 2014, 2015])"
      ]
     },
     "execution_count": 14,
     "metadata": {},
     "output_type": "execute_result"
    }
   ],
   "source": [
    "assos_study['Année budgétaire'].unique()"
   ]
  },
  {
   "cell_type": "code",
   "execution_count": 15,
   "id": "644f205b",
   "metadata": {},
   "outputs": [
    {
     "data": {
      "text/plain": [
       "array(['Ville de Paris', 'Département de Paris'], dtype=object)"
      ]
     },
     "execution_count": 15,
     "metadata": {},
     "output_type": "execute_result"
    }
   ],
   "source": [
    "assos_study['Collectivité'].unique()"
   ]
  },
  {
   "cell_type": "code",
   "execution_count": 16,
   "id": "23809cfd",
   "metadata": {},
   "outputs": [
    {
     "data": {
      "text/plain": [
       "array(['DDCT', 'DASES', 'DAE', 'DASCO', 'DFPE', 'DAC', 'DEVE', 'DPSP',\n",
       "       'DJS', 'DPE', 'DGRI', 'DVD', 'SG', 'DGOM', 'CASVP', 'DU', 'DRH',\n",
       "       'DLH', 'DPVI', 'DUCT', 'SG-MI-CINEMA', 'SG-DPMC', 'DFA', 'DICOM',\n",
       "       'SGCP'], dtype=object)"
      ]
     },
     "execution_count": 16,
     "metadata": {},
     "output_type": "execute_result"
    }
   ],
   "source": [
    "assos_study['Direction'].unique()"
   ]
  },
  {
   "cell_type": "code",
   "execution_count": 17,
   "id": "e9be24ca",
   "metadata": {
    "scrolled": true
   },
   "outputs": [
    {
     "data": {
      "text/plain": [
       "array(['Fonctionnement', 'Non précisée', 'Projet', 'Investissement'],\n",
       "      dtype=object)"
      ]
     },
     "execution_count": 17,
     "metadata": {},
     "output_type": "execute_result"
    }
   ],
   "source": [
    "assos_study['Nature de la subvention'].unique()"
   ]
  },
  {
   "cell_type": "code",
   "execution_count": 18,
   "id": "98dccdab",
   "metadata": {},
   "outputs": [
    {
     "data": {
      "text/plain": [
       "array(['Loisirs', 'Environnement & écologie', 'Culture & Arts',\n",
       "       'Education & formation', 'Vie et animation locale', 'Emploi',\n",
       "       'Aides aux associations', 'Santé', 'Communication & média',\n",
       "       'Social', 'Humanitaire', 'Sport',\n",
       "       'Défense des droits et des intérêts', 'Economie', 'Mémoire',\n",
       "       'Précarité & Exclusion', 'Architecture & urbanisme',\n",
       "       'Idée & opinion', 'Relations internationales',\n",
       "       'Déplacements et transports', 'Tourisme', nan,\n",
       "       'Technique & Recherche'], dtype=object)"
      ]
     },
     "execution_count": 18,
     "metadata": {},
     "output_type": "execute_result"
    }
   ],
   "source": [
    "assos_study['Secteur Activité 1'].unique()"
   ]
  },
  {
   "cell_type": "code",
   "execution_count": 19,
   "id": "c8e989e5",
   "metadata": {},
   "outputs": [
    {
     "data": {
      "text/plain": [
       "array(['Social', 'Sport', 'Santé', nan, 'Mémoire',\n",
       "       'Précarité & Exclusion', 'Emploi', 'Environnement & écologie',\n",
       "       'Education & formation', 'Défense des droits et des intérêts',\n",
       "       'Vie et animation locale', 'Culture & Arts', 'Loisirs',\n",
       "       'Humanitaire', 'Relations internationales', 'Economie',\n",
       "       'Idée & opinion', 'Technique & Recherche', 'Tourisme',\n",
       "       'Déplacements et transports', 'Communication & média',\n",
       "       'Architecture & urbanisme'], dtype=object)"
      ]
     },
     "execution_count": 19,
     "metadata": {},
     "output_type": "execute_result"
    }
   ],
   "source": [
    "assos_study['Secteur Activité 2'].unique()"
   ]
  },
  {
   "cell_type": "code",
   "execution_count": 20,
   "id": "2a09334b",
   "metadata": {},
   "outputs": [
    {
     "data": {
      "text/plain": [
       "array(['Vie et animation locale', 'Sport', 'Social', nan,\n",
       "       'Précarité & Exclusion', 'Technique & Recherche',\n",
       "       'Environnement & écologie', 'Loisirs', 'Santé', 'Mémoire',\n",
       "       'Idée & opinion', 'Education & formation', 'Emploi', 'Tourisme',\n",
       "       'Relations internationales', 'Humanitaire', 'Economie',\n",
       "       'Culture & Arts', 'Défense des droits et des intérêts'],\n",
       "      dtype=object)"
      ]
     },
     "execution_count": 20,
     "metadata": {},
     "output_type": "execute_result"
    }
   ],
   "source": [
    "assos_study['Secteur Activité 3'].unique()"
   ]
  },
  {
   "cell_type": "code",
   "execution_count": 21,
   "id": "6cbd4414",
   "metadata": {},
   "outputs": [
    {
     "name": "stdout",
     "output_type": "stream",
     "text": [
      "<class 'pandas.core.frame.DataFrame'>\n",
      "RangeIndex: 25000 entries, 0 to 24999\n",
      "Data columns (total 12 columns):\n",
      " #   Column                   Non-Null Count  Dtype \n",
      "---  ------                   --------------  ----- \n",
      " 0   Numéro de dossier        25000 non-null  object\n",
      " 1   Année budgétaire         25000 non-null  int64 \n",
      " 2   Collectivité             25000 non-null  object\n",
      " 3   Nom Bénéficiaire         24992 non-null  object\n",
      " 4   Numéro Siret             24957 non-null  object\n",
      " 5   Objet du dossier         25000 non-null  object\n",
      " 6   Montant voté             25000 non-null  int64 \n",
      " 7   Direction                25000 non-null  object\n",
      " 8   Nature de la subvention  25000 non-null  object\n",
      " 9   Secteur Activité 1       24990 non-null  object\n",
      " 10  Secteur Activité 2       21031 non-null  object\n",
      " 11  Secteur Activité 3       17529 non-null  object\n",
      "dtypes: int64(2), object(10)\n",
      "memory usage: 2.3+ MB\n"
     ]
    }
   ],
   "source": [
    "assos_study.info(verbose = True, show_counts=True)"
   ]
  },
  {
   "cell_type": "code",
   "execution_count": 22,
   "id": "49beb734",
   "metadata": {},
   "outputs": [],
   "source": [
    "from pandas.api.types import CategoricalDtype\n",
    "dtype ={\n",
    "    'Année budgétaire':CategoricalDtype(categories=[2013, 2014, 2015, 2016, 2017, 2018, 2019, 2020], ordered=True),\n",
    "    'Collectivité':'category',\n",
    "    'Direction':'category',\n",
    "    'Nature de la subvention':'category',\n",
    "    'Secteur Activité 1':'category',\n",
    "    'Secteur Activité 2':'category',\n",
    "    'Secteur Activité 3':'category'\n",
    "}"
   ]
  },
  {
   "cell_type": "code",
   "execution_count": 23,
   "id": "557773e2",
   "metadata": {},
   "outputs": [],
   "source": [
    "assos_study = pandas.read_csv(\"subventions-accordees-et-refusees-split.csv\",sep=\";\",nrows=25000,dtype=dtype)"
   ]
  },
  {
   "cell_type": "code",
   "execution_count": 24,
   "id": "7a160d66",
   "metadata": {},
   "outputs": [
    {
     "name": "stdout",
     "output_type": "stream",
     "text": [
      "<class 'pandas.core.frame.DataFrame'>\n",
      "RangeIndex: 25000 entries, 0 to 24999\n",
      "Data columns (total 12 columns):\n",
      " #   Column                   Non-Null Count  Dtype   \n",
      "---  ------                   --------------  -----   \n",
      " 0   Numéro de dossier        25000 non-null  object  \n",
      " 1   Année budgétaire         25000 non-null  category\n",
      " 2   Collectivité             25000 non-null  category\n",
      " 3   Nom Bénéficiaire         24992 non-null  object  \n",
      " 4   Numéro Siret             24957 non-null  object  \n",
      " 5   Objet du dossier         25000 non-null  object  \n",
      " 6   Montant voté             25000 non-null  int64   \n",
      " 7   Direction                25000 non-null  category\n",
      " 8   Nature de la subvention  25000 non-null  category\n",
      " 9   Secteur Activité 1       24990 non-null  category\n",
      " 10  Secteur Activité 2       21031 non-null  category\n",
      " 11  Secteur Activité 3       17529 non-null  category\n",
      "dtypes: category(7), int64(1), object(4)\n",
      "memory usage: 1.1+ MB\n"
     ]
    }
   ],
   "source": [
    "assos_study.info(verbose = True, show_counts=True)"
   ]
  },
  {
   "cell_type": "code",
   "execution_count": 25,
   "id": "a19ced01",
   "metadata": {},
   "outputs": [
    {
     "name": "stderr",
     "output_type": "stream",
     "text": [
      "/opt/anaconda3/lib/python3.9/site-packages/IPython/core/interactiveshell.py:3444: DtypeWarning: Columns (4) have mixed types.Specify dtype option on import or set low_memory=False.\n",
      "  exec(code_obj, self.user_global_ns, self.user_ns)\n"
     ]
    }
   ],
   "source": [
    "assos = pandas.read_csv(\"subventions-accordees-et-refusees-split.csv\",sep=\";\",dtype=dtype)"
   ]
  },
  {
   "cell_type": "code",
   "execution_count": 26,
   "id": "0c6d59a1",
   "metadata": {},
   "outputs": [
    {
     "name": "stdout",
     "output_type": "stream",
     "text": [
      "<class 'pandas.core.frame.DataFrame'>\n",
      "RangeIndex: 73034 entries, 0 to 73033\n",
      "Data columns (total 12 columns):\n",
      " #   Column                   Non-Null Count  Dtype   \n",
      "---  ------                   --------------  -----   \n",
      " 0   Numéro de dossier        73034 non-null  object  \n",
      " 1   Année budgétaire         69690 non-null  category\n",
      " 2   Collectivité             73034 non-null  category\n",
      " 3   Nom Bénéficiaire         73013 non-null  object  \n",
      " 4   Numéro Siret             72843 non-null  object  \n",
      " 5   Objet du dossier         73034 non-null  object  \n",
      " 6   Montant voté             73034 non-null  int64   \n",
      " 7   Direction                73034 non-null  category\n",
      " 8   Nature de la subvention  73034 non-null  category\n",
      " 9   Secteur Activité 1       72994 non-null  category\n",
      " 10  Secteur Activité 2       61353 non-null  category\n",
      " 11  Secteur Activité 3       51102 non-null  category\n",
      "dtypes: category(7), int64(1), object(4)\n",
      "memory usage: 3.3+ MB\n"
     ]
    }
   ],
   "source": [
    "assos.info(verbose = True, show_counts=True)"
   ]
  },
  {
   "cell_type": "markdown",
   "id": "6406c3a4",
   "metadata": {},
   "source": [
    "La mémoire n'occupe plus que 3,3 MB contre 6,7 MB tout à l'heure."
   ]
  },
  {
   "cell_type": "markdown",
   "id": "78895b18",
   "metadata": {},
   "source": [
    "## Analyse descriptive des données"
   ]
  },
  {
   "cell_type": "markdown",
   "id": "49c33e66",
   "metadata": {},
   "source": [
    "Montant total des subventions votées par exercice budgétaire "
   ]
  },
  {
   "cell_type": "code",
   "execution_count": 27,
   "id": "bfe08192",
   "metadata": {},
   "outputs": [
    {
     "data": {
      "text/plain": [
       "<AxesSubplot:xlabel='Année', ylabel=\"Millions d'euros\">"
      ]
     },
     "execution_count": 27,
     "metadata": {},
     "output_type": "execute_result"
    },
    {
     "data": {
      "image/png": "[encoded data removed]",
      "text/plain": [
       "<Figure size 1008x648 with 1 Axes>"
      ]
     },
     "metadata": {
      "needs_background": "light"
     },
     "output_type": "display_data"
    }
   ],
   "source": [
    "amount_year = assos.groupby(['Année budgétaire'])[('Montant voté')].sum()\n",
    "amount_year.plot(\n",
    "    kind = \"bar\", \n",
    "    xlabel=\"Année\",\n",
    "    ylabel = \"Millions d'euros\",\n",
    "    figsize = (14,9)\n",
    ")"
   ]
  },
  {
   "cell_type": "code",
   "execution_count": 28,
   "id": "afd9863f",
   "metadata": {},
   "outputs": [
    {
     "data": {
      "text/plain": [
       "2299253802"
      ]
     },
     "execution_count": 28,
     "metadata": {},
     "output_type": "execute_result"
    }
   ],
   "source": [
    "assos['Montant voté'].sum()"
   ]
  },
  {
   "cell_type": "markdown",
   "id": "5157dfc9",
   "metadata": {},
   "source": [
    " Les 20 premières associations bénéficiaires par montants votés "
   ]
  },
  {
   "cell_type": "code",
   "execution_count": 29,
   "id": "80e2e85b",
   "metadata": {},
   "outputs": [
    {
     "data": {
      "text/html": [
       "<div>\n",
       "<style scoped>\n",
       "    .dataframe tbody tr th:only-of-type {\n",
       "        vertical-align: middle;\n",
       "    }\n",
       "\n",
       "    .dataframe tbody tr th {\n",
       "        vertical-align: top;\n",
       "    }\n",
       "\n",
       "    .dataframe thead th {\n",
       "        text-align: right;\n",
       "    }\n",
       "</style>\n",
       "<table border=\"1\" class=\"dataframe\">\n",
       "  <thead>\n",
       "    <tr style=\"text-align: right;\">\n",
       "      <th></th>\n",
       "      <th>Montant voté</th>\n",
       "    </tr>\n",
       "    <tr>\n",
       "      <th>Nom Bénéficiaire</th>\n",
       "      <th></th>\n",
       "    </tr>\n",
       "  </thead>\n",
       "  <tbody>\n",
       "    <tr>\n",
       "      <th>THEATRE MUSICAL DE PARIS</th>\n",
       "      <td>131831000</td>\n",
       "    </tr>\n",
       "    <tr>\n",
       "      <th>ASSOCIATION D'ACTION SOCIALE EN FAVEUR DES PERSONNELS DE LA VILLE DE PARIS ET DU DÉPARTEMENT DE PARIS</th>\n",
       "      <td>79250743</td>\n",
       "    </tr>\n",
       "    <tr>\n",
       "      <th>ASSOCIATION DU THÉÂTRE DE LA VILLE</th>\n",
       "      <td>70139300</td>\n",
       "    </tr>\n",
       "    <tr>\n",
       "      <th>ASSOCIATION POUR LA GESTION DES OEUVRES SOCIALES DU PERSONNEL DES ADMINISTRATIONS PARISIENNES</th>\n",
       "      <td>65215618</td>\n",
       "    </tr>\n",
       "    <tr>\n",
       "      <th>FORUM DES IMAGES</th>\n",
       "      <td>58722904</td>\n",
       "    </tr>\n",
       "    <tr>\n",
       "      <th>FONDATION OEUVRE DE LA CROIX SAINT-SIMON</th>\n",
       "      <td>52788800</td>\n",
       "    </tr>\n",
       "    <tr>\n",
       "      <th>PHILHARMONIE DE PARIS</th>\n",
       "      <td>42323233</td>\n",
       "    </tr>\n",
       "    <tr>\n",
       "      <th>ATELIER PARISIEN D'URBANISME</th>\n",
       "      <td>40287504</td>\n",
       "    </tr>\n",
       "    <tr>\n",
       "      <th>CRESCENDO</th>\n",
       "      <td>39964636</td>\n",
       "    </tr>\n",
       "    <tr>\n",
       "      <th>OFFICE DU TOURISME ET DES CONGRÈS DE PARIS</th>\n",
       "      <td>39715000</td>\n",
       "    </tr>\n",
       "    <tr>\n",
       "      <th>ORCHESTRE DE CHAMBRE DE PARIS</th>\n",
       "      <td>39306900</td>\n",
       "    </tr>\n",
       "    <tr>\n",
       "      <th>ORCHESTRE DE PARIS</th>\n",
       "      <td>36700800</td>\n",
       "    </tr>\n",
       "    <tr>\n",
       "      <th>PARIS ATELIERS</th>\n",
       "      <td>35205164</td>\n",
       "    </tr>\n",
       "    <tr>\n",
       "      <th>MISSION LOCALE DE PARIS</th>\n",
       "      <td>34825155</td>\n",
       "    </tr>\n",
       "    <tr>\n",
       "      <th>ABC PUÉRICULTURE</th>\n",
       "      <td>33390640</td>\n",
       "    </tr>\n",
       "    <tr>\n",
       "      <th>THEATRE DE LA VILLE</th>\n",
       "      <td>30188300</td>\n",
       "    </tr>\n",
       "    <tr>\n",
       "      <th>ASSOCIATION D'ACTION SOCIALE EN FAVEUR DES PERSONNELS DE LA VILLE DE PARIS ET DU DEPARTEMENT DE PARIS ASPP</th>\n",
       "      <td>28207000</td>\n",
       "    </tr>\n",
       "    <tr>\n",
       "      <th>LA MAISON KANGOUROU</th>\n",
       "      <td>27232710</td>\n",
       "    </tr>\n",
       "    <tr>\n",
       "      <th>PARIS ET COMPAGNIE</th>\n",
       "      <td>26741000</td>\n",
       "    </tr>\n",
       "    <tr>\n",
       "      <th>LA MAISON DES BOUT'CHOU</th>\n",
       "      <td>25062341</td>\n",
       "    </tr>\n",
       "  </tbody>\n",
       "</table>\n",
       "</div>"
      ],
      "text/plain": [
       "                                                    Montant voté\n",
       "Nom Bénéficiaire                                                \n",
       "THEATRE MUSICAL DE PARIS                               131831000\n",
       "ASSOCIATION D'ACTION SOCIALE EN FAVEUR DES PERS...      79250743\n",
       "ASSOCIATION DU THÉÂTRE DE LA VILLE                      70139300\n",
       "ASSOCIATION POUR LA GESTION DES OEUVRES SOCIALE...      65215618\n",
       "FORUM DES IMAGES                                        58722904\n",
       "FONDATION OEUVRE DE LA CROIX SAINT-SIMON                52788800\n",
       "PHILHARMONIE DE PARIS                                   42323233\n",
       "ATELIER PARISIEN D'URBANISME                            40287504\n",
       "CRESCENDO                                               39964636\n",
       "OFFICE DU TOURISME ET DES CONGRÈS DE PARIS              39715000\n",
       "ORCHESTRE DE CHAMBRE DE PARIS                           39306900\n",
       "ORCHESTRE DE PARIS                                      36700800\n",
       "PARIS ATELIERS                                          35205164\n",
       "MISSION LOCALE DE PARIS                                 34825155\n",
       "ABC PUÉRICULTURE                                        33390640\n",
       "THEATRE DE LA VILLE                                     30188300\n",
       "ASSOCIATION D'ACTION SOCIALE EN FAVEUR DES PERS...      28207000\n",
       "LA MAISON KANGOUROU                                     27232710\n",
       "PARIS ET COMPAGNIE                                      26741000\n",
       "LA MAISON DES BOUT'CHOU                                 25062341"
      ]
     },
     "execution_count": 29,
     "metadata": {},
     "output_type": "execute_result"
    }
   ],
   "source": [
    "assos_max = assos.groupby(\"Nom Bénéficiaire\").sum()\n",
    "assos_max.sort_values(by = 'Montant voté',ascending=False).head(20)"
   ]
  },
  {
   "cell_type": "code",
   "execution_count": 30,
   "id": "02f3ebfa",
   "metadata": {},
   "outputs": [
    {
     "data": {
      "text/plain": [
       "2299015402"
      ]
     },
     "execution_count": 30,
     "metadata": {},
     "output_type": "execute_result"
    }
   ],
   "source": [
    "assos_max['Montant voté'].sum()"
   ]
  },
  {
   "cell_type": "code",
   "execution_count": 31,
   "id": "1e88d053",
   "metadata": {},
   "outputs": [
    {
     "data": {
      "text/html": [
       "<div>\n",
       "<style scoped>\n",
       "    .dataframe tbody tr th:only-of-type {\n",
       "        vertical-align: middle;\n",
       "    }\n",
       "\n",
       "    .dataframe tbody tr th {\n",
       "        vertical-align: top;\n",
       "    }\n",
       "\n",
       "    .dataframe thead th {\n",
       "        text-align: right;\n",
       "    }\n",
       "</style>\n",
       "<table border=\"1\" class=\"dataframe\">\n",
       "  <thead>\n",
       "    <tr style=\"text-align: right;\">\n",
       "      <th>Année budgétaire</th>\n",
       "      <th>2013</th>\n",
       "      <th>2014</th>\n",
       "      <th>2015</th>\n",
       "      <th>2016</th>\n",
       "      <th>2017</th>\n",
       "      <th>2018</th>\n",
       "      <th>2019</th>\n",
       "      <th>2020</th>\n",
       "    </tr>\n",
       "    <tr>\n",
       "      <th>Nom Bénéficiaire</th>\n",
       "      <th></th>\n",
       "      <th></th>\n",
       "      <th></th>\n",
       "      <th></th>\n",
       "      <th></th>\n",
       "      <th></th>\n",
       "      <th></th>\n",
       "      <th></th>\n",
       "    </tr>\n",
       "  </thead>\n",
       "  <tbody>\n",
       "    <tr>\n",
       "      <th>\"ACP  LA MANUFACTURE CHANSON\"(DOUBLON AVEC LE 181331 CHANGEMENT DE NATURE JURIDIQUE)</th>\n",
       "      <td>30380</td>\n",
       "      <td>0</td>\n",
       "      <td>0</td>\n",
       "      <td>0</td>\n",
       "      <td>0</td>\n",
       "      <td>0</td>\n",
       "      <td>0</td>\n",
       "      <td>0</td>\n",
       "    </tr>\n",
       "    <tr>\n",
       "      <th>\"GROUPEMENT DE DEFENSE SANITAIRE DES ABEILLES DU VAL-DE-MARNE ET DE LA SEINE\"</th>\n",
       "      <td>0</td>\n",
       "      <td>0</td>\n",
       "      <td>0</td>\n",
       "      <td>0</td>\n",
       "      <td>0</td>\n",
       "      <td>0</td>\n",
       "      <td>500</td>\n",
       "      <td>0</td>\n",
       "    </tr>\n",
       "    <tr>\n",
       "      <th>\"INSERTION. FORMATION. EMPLOI-BAT\" (I.F.E. - BAT)</th>\n",
       "      <td>0</td>\n",
       "      <td>0</td>\n",
       "      <td>0</td>\n",
       "      <td>0</td>\n",
       "      <td>0</td>\n",
       "      <td>0</td>\n",
       "      <td>0</td>\n",
       "      <td>0</td>\n",
       "    </tr>\n",
       "    <tr>\n",
       "      <th>\"JE.TU.IL...\"</th>\n",
       "      <td>0</td>\n",
       "      <td>0</td>\n",
       "      <td>0</td>\n",
       "      <td>30000</td>\n",
       "      <td>70000</td>\n",
       "      <td>40000</td>\n",
       "      <td>0</td>\n",
       "      <td>0</td>\n",
       "    </tr>\n",
       "    <tr>\n",
       "      <th>\"KMK\"</th>\n",
       "      <td>0</td>\n",
       "      <td>0</td>\n",
       "      <td>0</td>\n",
       "      <td>1500</td>\n",
       "      <td>0</td>\n",
       "      <td>0</td>\n",
       "      <td>0</td>\n",
       "      <td>0</td>\n",
       "    </tr>\n",
       "    <tr>\n",
       "      <th>...</th>\n",
       "      <td>...</td>\n",
       "      <td>...</td>\n",
       "      <td>...</td>\n",
       "      <td>...</td>\n",
       "      <td>...</td>\n",
       "      <td>...</td>\n",
       "      <td>...</td>\n",
       "      <td>...</td>\n",
       "    </tr>\n",
       "    <tr>\n",
       "      <th>ÉGALITÉ DES CHANCES DANS LES ÉTUDES ET LA PROFESSION D'INGÉNIEURS EN EUROPE</th>\n",
       "      <td>0</td>\n",
       "      <td>0</td>\n",
       "      <td>0</td>\n",
       "      <td>0</td>\n",
       "      <td>0</td>\n",
       "      <td>2000</td>\n",
       "      <td>0</td>\n",
       "      <td>0</td>\n",
       "    </tr>\n",
       "    <tr>\n",
       "      <th>ÉLAN INTERCULTUREL</th>\n",
       "      <td>0</td>\n",
       "      <td>0</td>\n",
       "      <td>0</td>\n",
       "      <td>0</td>\n",
       "      <td>0</td>\n",
       "      <td>0</td>\n",
       "      <td>3000</td>\n",
       "      <td>0</td>\n",
       "    </tr>\n",
       "    <tr>\n",
       "      <th>ÉNERGIE PARTAGÉE</th>\n",
       "      <td>2280</td>\n",
       "      <td>0</td>\n",
       "      <td>0</td>\n",
       "      <td>0</td>\n",
       "      <td>0</td>\n",
       "      <td>0</td>\n",
       "      <td>0</td>\n",
       "      <td>0</td>\n",
       "    </tr>\n",
       "    <tr>\n",
       "      <th>ÉTONNANT CINÉMA</th>\n",
       "      <td>0</td>\n",
       "      <td>0</td>\n",
       "      <td>0</td>\n",
       "      <td>0</td>\n",
       "      <td>1500</td>\n",
       "      <td>3000</td>\n",
       "      <td>0</td>\n",
       "      <td>0</td>\n",
       "    </tr>\n",
       "    <tr>\n",
       "      <th>Ô DIVERSITE !</th>\n",
       "      <td>0</td>\n",
       "      <td>0</td>\n",
       "      <td>0</td>\n",
       "      <td>0</td>\n",
       "      <td>0</td>\n",
       "      <td>0</td>\n",
       "      <td>0</td>\n",
       "      <td>0</td>\n",
       "    </tr>\n",
       "  </tbody>\n",
       "</table>\n",
       "<p>6326 rows × 8 columns</p>\n",
       "</div>"
      ],
      "text/plain": [
       "Année budgétaire                                     2013  2014  2015   2016  \\\n",
       "Nom Bénéficiaire                                                               \n",
       "\"ACP  LA MANUFACTURE CHANSON\"(DOUBLON AVEC LE 1...  30380     0     0      0   \n",
       "\"GROUPEMENT DE DEFENSE SANITAIRE DES ABEILLES D...      0     0     0      0   \n",
       "\"INSERTION. FORMATION. EMPLOI-BAT\" (I.F.E. - BAT)       0     0     0      0   \n",
       "\"JE.TU.IL...\"                                           0     0     0  30000   \n",
       "\"KMK\"                                                   0     0     0   1500   \n",
       "...                                                   ...   ...   ...    ...   \n",
       "ÉGALITÉ DES CHANCES DANS LES ÉTUDES ET LA PROFE...      0     0     0      0   \n",
       "ÉLAN INTERCULTUREL                                      0     0     0      0   \n",
       "ÉNERGIE PARTAGÉE                                     2280     0     0      0   \n",
       "ÉTONNANT CINÉMA                                         0     0     0      0   \n",
       "Ô DIVERSITE !                                           0     0     0      0   \n",
       "\n",
       "Année budgétaire                                     2017   2018  2019  2020  \n",
       "Nom Bénéficiaire                                                              \n",
       "\"ACP  LA MANUFACTURE CHANSON\"(DOUBLON AVEC LE 1...      0      0     0     0  \n",
       "\"GROUPEMENT DE DEFENSE SANITAIRE DES ABEILLES D...      0      0   500     0  \n",
       "\"INSERTION. FORMATION. EMPLOI-BAT\" (I.F.E. - BAT)       0      0     0     0  \n",
       "\"JE.TU.IL...\"                                       70000  40000     0     0  \n",
       "\"KMK\"                                                   0      0     0     0  \n",
       "...                                                   ...    ...   ...   ...  \n",
       "ÉGALITÉ DES CHANCES DANS LES ÉTUDES ET LA PROFE...      0   2000     0     0  \n",
       "ÉLAN INTERCULTUREL                                      0      0  3000     0  \n",
       "ÉNERGIE PARTAGÉE                                        0      0     0     0  \n",
       "ÉTONNANT CINÉMA                                      1500   3000     0     0  \n",
       "Ô DIVERSITE !                                           0      0     0     0  \n",
       "\n",
       "[6326 rows x 8 columns]"
      ]
     },
     "execution_count": 31,
     "metadata": {},
     "output_type": "execute_result"
    }
   ],
   "source": [
    "df_assos_an = pandas.pivot_table(assos_study,columns=\"Année budgétaire\",values=\"Montant voté\",index=\"Nom Bénéficiaire\",aggfunc=\"sum\")\n",
    "df_assos_an"
   ]
  },
  {
   "cell_type": "markdown",
   "id": "49d5ed44",
   "metadata": {},
   "source": [
    "## Analyse en composante principale"
   ]
  },
  {
   "cell_type": "code",
   "execution_count": 32,
   "id": "2c53949d",
   "metadata": {},
   "outputs": [
    {
     "data": {
      "text/html": [
       "<div>\n",
       "<style scoped>\n",
       "    .dataframe tbody tr th:only-of-type {\n",
       "        vertical-align: middle;\n",
       "    }\n",
       "\n",
       "    .dataframe tbody tr th {\n",
       "        vertical-align: top;\n",
       "    }\n",
       "\n",
       "    .dataframe thead th {\n",
       "        text-align: right;\n",
       "    }\n",
       "</style>\n",
       "<table border=\"1\" class=\"dataframe\">\n",
       "  <thead>\n",
       "    <tr style=\"text-align: right;\">\n",
       "      <th></th>\n",
       "      <th></th>\n",
       "      <th>Montant voté</th>\n",
       "    </tr>\n",
       "    <tr>\n",
       "      <th>Année budgétaire</th>\n",
       "      <th>Secteur Activité</th>\n",
       "      <th></th>\n",
       "    </tr>\n",
       "  </thead>\n",
       "  <tbody>\n",
       "    <tr>\n",
       "      <th rowspan=\"5\" valign=\"top\">2013</th>\n",
       "      <th>Aides aux associations</th>\n",
       "      <td>2449754</td>\n",
       "    </tr>\n",
       "    <tr>\n",
       "      <th>Architecture &amp; urbanisme</th>\n",
       "      <td>12997243</td>\n",
       "    </tr>\n",
       "    <tr>\n",
       "      <th>Communication &amp; média</th>\n",
       "      <td>1283184</td>\n",
       "    </tr>\n",
       "    <tr>\n",
       "      <th>Culture &amp; Arts</th>\n",
       "      <td>92317117</td>\n",
       "    </tr>\n",
       "    <tr>\n",
       "      <th>Défense des droits et des intérêts</th>\n",
       "      <td>4377576</td>\n",
       "    </tr>\n",
       "    <tr>\n",
       "      <th>...</th>\n",
       "      <th>...</th>\n",
       "      <td>...</td>\n",
       "    </tr>\n",
       "    <tr>\n",
       "      <th rowspan=\"5\" valign=\"top\">2020</th>\n",
       "      <th>Social</th>\n",
       "      <td>135714720</td>\n",
       "    </tr>\n",
       "    <tr>\n",
       "      <th>Sport</th>\n",
       "      <td>11603251</td>\n",
       "    </tr>\n",
       "    <tr>\n",
       "      <th>Technique &amp; Recherche</th>\n",
       "      <td>1501994</td>\n",
       "    </tr>\n",
       "    <tr>\n",
       "      <th>Tourisme</th>\n",
       "      <td>18009911</td>\n",
       "    </tr>\n",
       "    <tr>\n",
       "      <th>Vie et animation locale</th>\n",
       "      <td>33322942</td>\n",
       "    </tr>\n",
       "  </tbody>\n",
       "</table>\n",
       "<p>176 rows × 1 columns</p>\n",
       "</div>"
      ],
      "text/plain": [
       "                                                     Montant voté\n",
       "Année budgétaire Secteur Activité                                \n",
       "2013             Aides aux associations                   2449754\n",
       "                 Architecture & urbanisme                12997243\n",
       "                 Communication & média                    1283184\n",
       "                 Culture & Arts                          92317117\n",
       "                 Défense des droits et des intérêts       4377576\n",
       "...                                                           ...\n",
       "2020             Social                                 135714720\n",
       "                 Sport                                   11603251\n",
       "                 Technique & Recherche                    1501994\n",
       "                 Tourisme                                18009911\n",
       "                 Vie et animation locale                 33322942\n",
       "\n",
       "[176 rows x 1 columns]"
      ]
     },
     "execution_count": 32,
     "metadata": {},
     "output_type": "execute_result"
    }
   ],
   "source": [
    "Liste1=assos[[\"Secteur Activité 1\",\"Montant voté\",\"Année budgétaire\"]].rename(columns={\"Secteur Activité 1\":\"Secteur Activité\"})\n",
    "Liste2=assos[[\"Secteur Activité 2\",\"Montant voté\",\"Année budgétaire\"]].rename(columns={\"Secteur Activité 2\":\"Secteur Activité\"})\n",
    "Liste3=assos[[\"Secteur Activité 3\",\"Montant voté\",\"Année budgétaire\"]].rename(columns={\"Secteur Activité 3\":\"Secteur Activité\"})\n",
    "\n",
    "Montants_totaux=Liste1.append(Liste2)\n",
    "Montants_totaux=Montants_totaux.append(Liste3)\n",
    "Montants_totaux.groupby([\"Année budgétaire\",\"Secteur Activité\"]).sum()\n"
   ]
  },
  {
   "cell_type": "code",
   "execution_count": 33,
   "id": "abdf8a5a",
   "metadata": {},
   "outputs": [
    {
     "data": {
      "text/html": [
       "<div>\n",
       "<style scoped>\n",
       "    .dataframe tbody tr th:only-of-type {\n",
       "        vertical-align: middle;\n",
       "    }\n",
       "\n",
       "    .dataframe tbody tr th {\n",
       "        vertical-align: top;\n",
       "    }\n",
       "\n",
       "    .dataframe thead th {\n",
       "        text-align: right;\n",
       "    }\n",
       "</style>\n",
       "<table border=\"1\" class=\"dataframe\">\n",
       "  <thead>\n",
       "    <tr style=\"text-align: right;\">\n",
       "      <th></th>\n",
       "      <th>Secteur Activité</th>\n",
       "      <th>Montant voté</th>\n",
       "      <th>Année budgétaire</th>\n",
       "    </tr>\n",
       "  </thead>\n",
       "  <tbody>\n",
       "    <tr>\n",
       "      <th>0</th>\n",
       "      <td>Loisirs</td>\n",
       "      <td>4700</td>\n",
       "      <td>2020</td>\n",
       "    </tr>\n",
       "    <tr>\n",
       "      <th>1</th>\n",
       "      <td>Loisirs</td>\n",
       "      <td>209692</td>\n",
       "      <td>2020</td>\n",
       "    </tr>\n",
       "    <tr>\n",
       "      <th>2</th>\n",
       "      <td>Environnement &amp; écologie</td>\n",
       "      <td>0</td>\n",
       "      <td>2020</td>\n",
       "    </tr>\n",
       "    <tr>\n",
       "      <th>3</th>\n",
       "      <td>Culture &amp; Arts</td>\n",
       "      <td>0</td>\n",
       "      <td>2020</td>\n",
       "    </tr>\n",
       "    <tr>\n",
       "      <th>4</th>\n",
       "      <td>Education &amp; formation</td>\n",
       "      <td>217134</td>\n",
       "      <td>2020</td>\n",
       "    </tr>\n",
       "    <tr>\n",
       "      <th>...</th>\n",
       "      <td>...</td>\n",
       "      <td>...</td>\n",
       "      <td>...</td>\n",
       "    </tr>\n",
       "    <tr>\n",
       "      <th>73029</th>\n",
       "      <td>Vie et animation locale</td>\n",
       "      <td>4700</td>\n",
       "      <td>NaN</td>\n",
       "    </tr>\n",
       "    <tr>\n",
       "      <th>73030</th>\n",
       "      <td>Technique &amp; Recherche</td>\n",
       "      <td>15000</td>\n",
       "      <td>NaN</td>\n",
       "    </tr>\n",
       "    <tr>\n",
       "      <th>73031</th>\n",
       "      <td>Relations internationales</td>\n",
       "      <td>2000</td>\n",
       "      <td>NaN</td>\n",
       "    </tr>\n",
       "    <tr>\n",
       "      <th>73032</th>\n",
       "      <td>Vie et animation locale</td>\n",
       "      <td>0</td>\n",
       "      <td>NaN</td>\n",
       "    </tr>\n",
       "    <tr>\n",
       "      <th>73033</th>\n",
       "      <td>Vie et animation locale</td>\n",
       "      <td>1000</td>\n",
       "      <td>NaN</td>\n",
       "    </tr>\n",
       "  </tbody>\n",
       "</table>\n",
       "<p>219102 rows × 3 columns</p>\n",
       "</div>"
      ],
      "text/plain": [
       "                Secteur Activité  Montant voté Année budgétaire\n",
       "0                        Loisirs          4700             2020\n",
       "1                        Loisirs        209692             2020\n",
       "2       Environnement & écologie             0             2020\n",
       "3                 Culture & Arts             0             2020\n",
       "4          Education & formation        217134             2020\n",
       "...                          ...           ...              ...\n",
       "73029    Vie et animation locale          4700              NaN\n",
       "73030      Technique & Recherche         15000              NaN\n",
       "73031  Relations internationales          2000              NaN\n",
       "73032    Vie et animation locale             0              NaN\n",
       "73033    Vie et animation locale          1000              NaN\n",
       "\n",
       "[219102 rows x 3 columns]"
      ]
     },
     "execution_count": 33,
     "metadata": {},
     "output_type": "execute_result"
    }
   ],
   "source": [
    "Montants_totaux"
   ]
  },
  {
   "cell_type": "markdown",
   "id": "e9f445f7",
   "metadata": {},
   "source": [
    "Construction d'un tableau double entrées (Pivot Table) avec les subventions par années selon les différents secteurs d'activités"
   ]
  },
  {
   "cell_type": "code",
   "execution_count": 34,
   "id": "7f9f5aea",
   "metadata": {},
   "outputs": [
    {
     "data": {
      "text/html": [
       "<div>\n",
       "<style scoped>\n",
       "    .dataframe tbody tr th:only-of-type {\n",
       "        vertical-align: middle;\n",
       "    }\n",
       "\n",
       "    .dataframe tbody tr th {\n",
       "        vertical-align: top;\n",
       "    }\n",
       "\n",
       "    .dataframe thead th {\n",
       "        text-align: right;\n",
       "    }\n",
       "</style>\n",
       "<table border=\"1\" class=\"dataframe\">\n",
       "  <thead>\n",
       "    <tr style=\"text-align: right;\">\n",
       "      <th>Secteur Activité</th>\n",
       "      <th>Aides aux associations</th>\n",
       "      <th>Architecture &amp; urbanisme</th>\n",
       "      <th>Communication &amp; média</th>\n",
       "      <th>Culture &amp; Arts</th>\n",
       "      <th>Défense des droits et des intérêts</th>\n",
       "      <th>Déplacements et transports</th>\n",
       "      <th>Economie</th>\n",
       "      <th>Education &amp; formation</th>\n",
       "      <th>Emploi</th>\n",
       "      <th>Environnement &amp; écologie</th>\n",
       "      <th>...</th>\n",
       "      <th>Loisirs</th>\n",
       "      <th>Mémoire</th>\n",
       "      <th>Précarité &amp; Exclusion</th>\n",
       "      <th>Relations internationales</th>\n",
       "      <th>Santé</th>\n",
       "      <th>Social</th>\n",
       "      <th>Sport</th>\n",
       "      <th>Technique &amp; Recherche</th>\n",
       "      <th>Tourisme</th>\n",
       "      <th>Vie et animation locale</th>\n",
       "    </tr>\n",
       "    <tr>\n",
       "      <th>Année budgétaire</th>\n",
       "      <th></th>\n",
       "      <th></th>\n",
       "      <th></th>\n",
       "      <th></th>\n",
       "      <th></th>\n",
       "      <th></th>\n",
       "      <th></th>\n",
       "      <th></th>\n",
       "      <th></th>\n",
       "      <th></th>\n",
       "      <th></th>\n",
       "      <th></th>\n",
       "      <th></th>\n",
       "      <th></th>\n",
       "      <th></th>\n",
       "      <th></th>\n",
       "      <th></th>\n",
       "      <th></th>\n",
       "      <th></th>\n",
       "      <th></th>\n",
       "      <th></th>\n",
       "    </tr>\n",
       "  </thead>\n",
       "  <tbody>\n",
       "    <tr>\n",
       "      <th>2013</th>\n",
       "      <td>2449754</td>\n",
       "      <td>12997243</td>\n",
       "      <td>1283184</td>\n",
       "      <td>92317117</td>\n",
       "      <td>4377576</td>\n",
       "      <td>8789835</td>\n",
       "      <td>10867437</td>\n",
       "      <td>59984700</td>\n",
       "      <td>15184532</td>\n",
       "      <td>10736647</td>\n",
       "      <td>...</td>\n",
       "      <td>11505418</td>\n",
       "      <td>4243081</td>\n",
       "      <td>22754161</td>\n",
       "      <td>7881955</td>\n",
       "      <td>34779299</td>\n",
       "      <td>99793924</td>\n",
       "      <td>11030129</td>\n",
       "      <td>2791368</td>\n",
       "      <td>16492510</td>\n",
       "      <td>22456188</td>\n",
       "    </tr>\n",
       "    <tr>\n",
       "      <th>2014</th>\n",
       "      <td>2260588</td>\n",
       "      <td>29064376</td>\n",
       "      <td>1167967</td>\n",
       "      <td>108101375</td>\n",
       "      <td>4278383</td>\n",
       "      <td>9084819</td>\n",
       "      <td>11220437</td>\n",
       "      <td>61412367</td>\n",
       "      <td>17640365</td>\n",
       "      <td>10384355</td>\n",
       "      <td>...</td>\n",
       "      <td>12853945</td>\n",
       "      <td>4200499</td>\n",
       "      <td>20845819</td>\n",
       "      <td>6012461</td>\n",
       "      <td>34043645</td>\n",
       "      <td>102911718</td>\n",
       "      <td>9156281</td>\n",
       "      <td>1560414</td>\n",
       "      <td>17621088</td>\n",
       "      <td>21629438</td>\n",
       "    </tr>\n",
       "    <tr>\n",
       "      <th>2015</th>\n",
       "      <td>2223209</td>\n",
       "      <td>32828331</td>\n",
       "      <td>1992083</td>\n",
       "      <td>109370403</td>\n",
       "      <td>5138073</td>\n",
       "      <td>8866451</td>\n",
       "      <td>12441351</td>\n",
       "      <td>61311320</td>\n",
       "      <td>18737550</td>\n",
       "      <td>10823962</td>\n",
       "      <td>...</td>\n",
       "      <td>12387251</td>\n",
       "      <td>3261428</td>\n",
       "      <td>24444483</td>\n",
       "      <td>8187570</td>\n",
       "      <td>38156153</td>\n",
       "      <td>110720606</td>\n",
       "      <td>9432895</td>\n",
       "      <td>1674602</td>\n",
       "      <td>17791688</td>\n",
       "      <td>22838781</td>\n",
       "    </tr>\n",
       "    <tr>\n",
       "      <th>2016</th>\n",
       "      <td>3233999</td>\n",
       "      <td>10328743</td>\n",
       "      <td>3062285</td>\n",
       "      <td>89559360</td>\n",
       "      <td>5648211</td>\n",
       "      <td>8417484</td>\n",
       "      <td>13007339</td>\n",
       "      <td>66268628</td>\n",
       "      <td>24136192</td>\n",
       "      <td>11499366</td>\n",
       "      <td>...</td>\n",
       "      <td>12773417</td>\n",
       "      <td>4652790</td>\n",
       "      <td>35395141</td>\n",
       "      <td>9270627</td>\n",
       "      <td>48855904</td>\n",
       "      <td>132144455</td>\n",
       "      <td>9226576</td>\n",
       "      <td>1399709</td>\n",
       "      <td>16517195</td>\n",
       "      <td>30261954</td>\n",
       "    </tr>\n",
       "    <tr>\n",
       "      <th>2017</th>\n",
       "      <td>3603587</td>\n",
       "      <td>10274000</td>\n",
       "      <td>2375832</td>\n",
       "      <td>86571885</td>\n",
       "      <td>6035031</td>\n",
       "      <td>8420599</td>\n",
       "      <td>12452639</td>\n",
       "      <td>70167385</td>\n",
       "      <td>24377426</td>\n",
       "      <td>12194546</td>\n",
       "      <td>...</td>\n",
       "      <td>14628878</td>\n",
       "      <td>4420288</td>\n",
       "      <td>38137017</td>\n",
       "      <td>14931241</td>\n",
       "      <td>46045688</td>\n",
       "      <td>130497297</td>\n",
       "      <td>9877751</td>\n",
       "      <td>8282811</td>\n",
       "      <td>18338942</td>\n",
       "      <td>31108733</td>\n",
       "    </tr>\n",
       "    <tr>\n",
       "      <th>2018</th>\n",
       "      <td>3277861</td>\n",
       "      <td>10439127</td>\n",
       "      <td>2292350</td>\n",
       "      <td>88130773</td>\n",
       "      <td>6042916</td>\n",
       "      <td>8490459</td>\n",
       "      <td>11467098</td>\n",
       "      <td>66594882</td>\n",
       "      <td>24137190</td>\n",
       "      <td>12218266</td>\n",
       "      <td>...</td>\n",
       "      <td>13155775</td>\n",
       "      <td>4482657</td>\n",
       "      <td>37405317</td>\n",
       "      <td>8354366</td>\n",
       "      <td>51373807</td>\n",
       "      <td>132374622</td>\n",
       "      <td>10901137</td>\n",
       "      <td>1308882</td>\n",
       "      <td>12774986</td>\n",
       "      <td>30444315</td>\n",
       "    </tr>\n",
       "    <tr>\n",
       "      <th>2019</th>\n",
       "      <td>4145868</td>\n",
       "      <td>9445268</td>\n",
       "      <td>2418303</td>\n",
       "      <td>89921162</td>\n",
       "      <td>8476426</td>\n",
       "      <td>7993239</td>\n",
       "      <td>13945372</td>\n",
       "      <td>55204324</td>\n",
       "      <td>29748982</td>\n",
       "      <td>13043370</td>\n",
       "      <td>...</td>\n",
       "      <td>13353236</td>\n",
       "      <td>4544625</td>\n",
       "      <td>49542565</td>\n",
       "      <td>9125904</td>\n",
       "      <td>53982705</td>\n",
       "      <td>146088278</td>\n",
       "      <td>9459260</td>\n",
       "      <td>1133300</td>\n",
       "      <td>14495005</td>\n",
       "      <td>34184212</td>\n",
       "    </tr>\n",
       "    <tr>\n",
       "      <th>2020</th>\n",
       "      <td>4581626</td>\n",
       "      <td>10021622</td>\n",
       "      <td>2352048</td>\n",
       "      <td>94955556</td>\n",
       "      <td>7969361</td>\n",
       "      <td>7688415</td>\n",
       "      <td>14500755</td>\n",
       "      <td>54481828</td>\n",
       "      <td>32847339</td>\n",
       "      <td>12809257</td>\n",
       "      <td>...</td>\n",
       "      <td>13494712</td>\n",
       "      <td>5510107</td>\n",
       "      <td>52917415</td>\n",
       "      <td>9254623</td>\n",
       "      <td>53046110</td>\n",
       "      <td>135714720</td>\n",
       "      <td>11603251</td>\n",
       "      <td>1501994</td>\n",
       "      <td>18009911</td>\n",
       "      <td>33322942</td>\n",
       "    </tr>\n",
       "  </tbody>\n",
       "</table>\n",
       "<p>8 rows × 22 columns</p>\n",
       "</div>"
      ],
      "text/plain": [
       "Secteur Activité  Aides aux associations  Architecture & urbanisme  \\\n",
       "Année budgétaire                                                     \n",
       "2013                             2449754                  12997243   \n",
       "2014                             2260588                  29064376   \n",
       "2015                             2223209                  32828331   \n",
       "2016                             3233999                  10328743   \n",
       "2017                             3603587                  10274000   \n",
       "2018                             3277861                  10439127   \n",
       "2019                             4145868                   9445268   \n",
       "2020                             4581626                  10021622   \n",
       "\n",
       "Secteur Activité  Communication & média  Culture & Arts  \\\n",
       "Année budgétaire                                          \n",
       "2013                            1283184        92317117   \n",
       "2014                            1167967       108101375   \n",
       "2015                            1992083       109370403   \n",
       "2016                            3062285        89559360   \n",
       "2017                            2375832        86571885   \n",
       "2018                            2292350        88130773   \n",
       "2019                            2418303        89921162   \n",
       "2020                            2352048        94955556   \n",
       "\n",
       "Secteur Activité  Défense des droits et des intérêts  \\\n",
       "Année budgétaire                                       \n",
       "2013                                         4377576   \n",
       "2014                                         4278383   \n",
       "2015                                         5138073   \n",
       "2016                                         5648211   \n",
       "2017                                         6035031   \n",
       "2018                                         6042916   \n",
       "2019                                         8476426   \n",
       "2020                                         7969361   \n",
       "\n",
       "Secteur Activité  Déplacements et transports  Economie  Education & formation  \\\n",
       "Année budgétaire                                                                \n",
       "2013                                 8789835  10867437               59984700   \n",
       "2014                                 9084819  11220437               61412367   \n",
       "2015                                 8866451  12441351               61311320   \n",
       "2016                                 8417484  13007339               66268628   \n",
       "2017                                 8420599  12452639               70167385   \n",
       "2018                                 8490459  11467098               66594882   \n",
       "2019                                 7993239  13945372               55204324   \n",
       "2020                                 7688415  14500755               54481828   \n",
       "\n",
       "Secteur Activité    Emploi  Environnement & écologie  ...   Loisirs  Mémoire  \\\n",
       "Année budgétaire                                      ...                      \n",
       "2013              15184532                  10736647  ...  11505418  4243081   \n",
       "2014              17640365                  10384355  ...  12853945  4200499   \n",
       "2015              18737550                  10823962  ...  12387251  3261428   \n",
       "2016              24136192                  11499366  ...  12773417  4652790   \n",
       "2017              24377426                  12194546  ...  14628878  4420288   \n",
       "2018              24137190                  12218266  ...  13155775  4482657   \n",
       "2019              29748982                  13043370  ...  13353236  4544625   \n",
       "2020              32847339                  12809257  ...  13494712  5510107   \n",
       "\n",
       "Secteur Activité  Précarité & Exclusion  Relations internationales     Santé  \\\n",
       "Année budgétaire                                                               \n",
       "2013                           22754161                    7881955  34779299   \n",
       "2014                           20845819                    6012461  34043645   \n",
       "2015                           24444483                    8187570  38156153   \n",
       "2016                           35395141                    9270627  48855904   \n",
       "2017                           38137017                   14931241  46045688   \n",
       "2018                           37405317                    8354366  51373807   \n",
       "2019                           49542565                    9125904  53982705   \n",
       "2020                           52917415                    9254623  53046110   \n",
       "\n",
       "Secteur Activité     Social     Sport  Technique & Recherche  Tourisme  \\\n",
       "Année budgétaire                                                         \n",
       "2013               99793924  11030129                2791368  16492510   \n",
       "2014              102911718   9156281                1560414  17621088   \n",
       "2015              110720606   9432895                1674602  17791688   \n",
       "2016              132144455   9226576                1399709  16517195   \n",
       "2017              130497297   9877751                8282811  18338942   \n",
       "2018              132374622  10901137                1308882  12774986   \n",
       "2019              146088278   9459260                1133300  14495005   \n",
       "2020              135714720  11603251                1501994  18009911   \n",
       "\n",
       "Secteur Activité  Vie et animation locale  \n",
       "Année budgétaire                           \n",
       "2013                             22456188  \n",
       "2014                             21629438  \n",
       "2015                             22838781  \n",
       "2016                             30261954  \n",
       "2017                             31108733  \n",
       "2018                             30444315  \n",
       "2019                             34184212  \n",
       "2020                             33322942  \n",
       "\n",
       "[8 rows x 22 columns]"
      ]
     },
     "execution_count": 34,
     "metadata": {},
     "output_type": "execute_result"
    }
   ],
   "source": [
    "Budget_secteurs_by_year=pandas.pivot_table(data=Montants_totaux,values=\"Montant voté\",index=[\"Année budgétaire\"],columns=[\"Secteur Activité\"],aggfunc=sum)\n",
    "Budget_secteurs_by_year"
   ]
  },
  {
   "cell_type": "code",
   "execution_count": 35,
   "id": "febf9f30",
   "metadata": {},
   "outputs": [
    {
     "data": {
      "text/plain": [
       "Index(['Aides aux associations', 'Architecture & urbanisme',\n",
       "       'Communication & média', 'Culture & Arts',\n",
       "       'Défense des droits et des intérêts', 'Déplacements et transports',\n",
       "       'Economie', 'Education & formation', 'Emploi',\n",
       "       'Environnement & écologie', 'Humanitaire', 'Idée & opinion', 'Loisirs',\n",
       "       'Mémoire', 'Précarité & Exclusion', 'Relations internationales',\n",
       "       'Santé', 'Social', 'Sport', 'Technique & Recherche', 'Tourisme',\n",
       "       'Vie et animation locale'],\n",
       "      dtype='object', name='Secteur Activité')"
      ]
     },
     "execution_count": 35,
     "metadata": {},
     "output_type": "execute_result"
    }
   ],
   "source": [
    "Budget_secteurs_by_year.columns"
   ]
  },
  {
   "cell_type": "markdown",
   "id": "250c3100",
   "metadata": {},
   "source": [
    "Nous renommons les colonnes avec les acronymes suivants:\n",
    "- AIA : Aides aux associations\n",
    "- A&U : Architecture & urbanisme\n",
    "- Com & Med : Communication & média \n",
    "- Cul & Art : Culture & Arts\n",
    "- DfDr : Défense des droits et des intérêts\n",
    "- TR : Déplacements et transports\n",
    "- ECO : Economie\n",
    "- EDU : Education & formation\n",
    "- EMPL : Emploi\n",
    "- ENV & ECO : Environnement & écologie\n",
    "- HUM: Humanitaire\n",
    "- I&O: Idée & opinion\n",
    "- LOIS: Loisirs\n",
    "- MEM : Mémoire\n",
    "- PRE & EXC : Précarité & Exclusion\n",
    "- RI : Relations internationales\n",
    "- SA : Santé\n",
    "- SOC : Social\n",
    "- SP : Sport\n",
    "- TECH & RE : Technique & Recherche\n",
    "- TOUR : Tourisme\n",
    "- V & ANIM : Vie et animation locale\n"
   ]
  },
  {
   "cell_type": "code",
   "execution_count": 36,
   "id": "1b635fbe",
   "metadata": {},
   "outputs": [],
   "source": [
    "Budget_secteurs_by_year.columns=['AIA','A&U','Com & Med','Cul & Art','DfDr','TR','ECO','EDU','EMPL','ENV & ECO','HUM','I&0','LOIS','MEM','PRE & EXC','RI','SA','SOC','SP','TECH & RE','TOUR','V & ANIM']\n"
   ]
  },
  {
   "cell_type": "code",
   "execution_count": 37,
   "id": "07ea2c22",
   "metadata": {},
   "outputs": [
    {
     "data": {
      "text/html": [
       "<div>\n",
       "<style scoped>\n",
       "    .dataframe tbody tr th:only-of-type {\n",
       "        vertical-align: middle;\n",
       "    }\n",
       "\n",
       "    .dataframe tbody tr th {\n",
       "        vertical-align: top;\n",
       "    }\n",
       "\n",
       "    .dataframe thead th {\n",
       "        text-align: right;\n",
       "    }\n",
       "</style>\n",
       "<table border=\"1\" class=\"dataframe\">\n",
       "  <thead>\n",
       "    <tr style=\"text-align: right;\">\n",
       "      <th></th>\n",
       "      <th>AIA</th>\n",
       "      <th>A&amp;U</th>\n",
       "      <th>Com &amp; Med</th>\n",
       "      <th>Cul &amp; Art</th>\n",
       "      <th>DfDr</th>\n",
       "      <th>TR</th>\n",
       "      <th>ECO</th>\n",
       "      <th>EDU</th>\n",
       "      <th>EMPL</th>\n",
       "      <th>ENV &amp; ECO</th>\n",
       "      <th>...</th>\n",
       "      <th>LOIS</th>\n",
       "      <th>MEM</th>\n",
       "      <th>PRE &amp; EXC</th>\n",
       "      <th>RI</th>\n",
       "      <th>SA</th>\n",
       "      <th>SOC</th>\n",
       "      <th>SP</th>\n",
       "      <th>TECH &amp; RE</th>\n",
       "      <th>TOUR</th>\n",
       "      <th>V &amp; ANIM</th>\n",
       "    </tr>\n",
       "  </thead>\n",
       "  <tbody>\n",
       "    <tr>\n",
       "      <th>count</th>\n",
       "      <td>8.000000e+00</td>\n",
       "      <td>8.000000e+00</td>\n",
       "      <td>8.000000e+00</td>\n",
       "      <td>8.000000e+00</td>\n",
       "      <td>8.000000e+00</td>\n",
       "      <td>8.000000e+00</td>\n",
       "      <td>8.000000e+00</td>\n",
       "      <td>8.000000e+00</td>\n",
       "      <td>8.000000e+00</td>\n",
       "      <td>8.000000e+00</td>\n",
       "      <td>...</td>\n",
       "      <td>8.000000e+00</td>\n",
       "      <td>8.000000e+00</td>\n",
       "      <td>8.000000e+00</td>\n",
       "      <td>8.000000e+00</td>\n",
       "      <td>8.000000e+00</td>\n",
       "      <td>8.000000e+00</td>\n",
       "      <td>8.000000e+00</td>\n",
       "      <td>8.000000e+00</td>\n",
       "      <td>8.000000e+00</td>\n",
       "      <td>8.000000e+00</td>\n",
       "    </tr>\n",
       "    <tr>\n",
       "      <th>mean</th>\n",
       "      <td>3.222062e+06</td>\n",
       "      <td>1.567484e+07</td>\n",
       "      <td>2.118006e+06</td>\n",
       "      <td>9.486595e+07</td>\n",
       "      <td>5.995747e+06</td>\n",
       "      <td>8.468913e+06</td>\n",
       "      <td>1.248780e+07</td>\n",
       "      <td>6.192818e+07</td>\n",
       "      <td>2.335120e+07</td>\n",
       "      <td>1.171372e+07</td>\n",
       "      <td>...</td>\n",
       "      <td>1.301908e+07</td>\n",
       "      <td>4.414434e+06</td>\n",
       "      <td>3.518024e+07</td>\n",
       "      <td>9.127343e+06</td>\n",
       "      <td>4.503541e+07</td>\n",
       "      <td>1.237807e+08</td>\n",
       "      <td>1.008591e+07</td>\n",
       "      <td>2.456635e+06</td>\n",
       "      <td>1.650517e+07</td>\n",
       "      <td>2.828082e+07</td>\n",
       "    </tr>\n",
       "    <tr>\n",
       "      <th>std</th>\n",
       "      <td>8.758056e+05</td>\n",
       "      <td>9.536549e+06</td>\n",
       "      <td>6.266516e+05</td>\n",
       "      <td>8.934885e+06</td>\n",
       "      <td>1.534223e+06</td>\n",
       "      <td>4.600084e+05</td>\n",
       "      <td>1.294132e+06</td>\n",
       "      <td>5.523769e+06</td>\n",
       "      <td>6.023635e+06</td>\n",
       "      <td>1.000959e+06</td>\n",
       "      <td>...</td>\n",
       "      <td>9.044352e+05</td>\n",
       "      <td>6.191589e+05</td>\n",
       "      <td>1.201049e+07</td>\n",
       "      <td>2.576158e+06</td>\n",
       "      <td>8.223211e+06</td>\n",
       "      <td>1.694704e+07</td>\n",
       "      <td>9.504572e+05</td>\n",
       "      <td>2.407374e+06</td>\n",
       "      <td>1.945056e+06</td>\n",
       "      <td>5.136129e+06</td>\n",
       "    </tr>\n",
       "    <tr>\n",
       "      <th>min</th>\n",
       "      <td>2.223209e+06</td>\n",
       "      <td>9.445268e+06</td>\n",
       "      <td>1.167967e+06</td>\n",
       "      <td>8.657188e+07</td>\n",
       "      <td>4.278383e+06</td>\n",
       "      <td>7.688415e+06</td>\n",
       "      <td>1.086744e+07</td>\n",
       "      <td>5.448183e+07</td>\n",
       "      <td>1.518453e+07</td>\n",
       "      <td>1.038436e+07</td>\n",
       "      <td>...</td>\n",
       "      <td>1.150542e+07</td>\n",
       "      <td>3.261428e+06</td>\n",
       "      <td>2.084582e+07</td>\n",
       "      <td>6.012461e+06</td>\n",
       "      <td>3.404364e+07</td>\n",
       "      <td>9.979392e+07</td>\n",
       "      <td>9.156281e+06</td>\n",
       "      <td>1.133300e+06</td>\n",
       "      <td>1.277499e+07</td>\n",
       "      <td>2.162944e+07</td>\n",
       "    </tr>\n",
       "    <tr>\n",
       "      <th>25%</th>\n",
       "      <td>2.402462e+06</td>\n",
       "      <td>1.021091e+07</td>\n",
       "      <td>1.814858e+06</td>\n",
       "      <td>8.920221e+07</td>\n",
       "      <td>4.947949e+06</td>\n",
       "      <td>8.311423e+06</td>\n",
       "      <td>1.140543e+07</td>\n",
       "      <td>5.878961e+07</td>\n",
       "      <td>1.846325e+07</td>\n",
       "      <td>1.080213e+07</td>\n",
       "      <td>...</td>\n",
       "      <td>1.267688e+07</td>\n",
       "      <td>4.232436e+06</td>\n",
       "      <td>2.402190e+07</td>\n",
       "      <td>8.111166e+06</td>\n",
       "      <td>3.731194e+07</td>\n",
       "      <td>1.087684e+08</td>\n",
       "      <td>9.381315e+06</td>\n",
       "      <td>1.377002e+06</td>\n",
       "      <td>1.599313e+07</td>\n",
       "      <td>2.274313e+07</td>\n",
       "    </tr>\n",
       "    <tr>\n",
       "      <th>50%</th>\n",
       "      <td>3.255930e+06</td>\n",
       "      <td>1.038394e+07</td>\n",
       "      <td>2.322199e+06</td>\n",
       "      <td>9.111914e+07</td>\n",
       "      <td>5.841621e+06</td>\n",
       "      <td>8.455529e+06</td>\n",
       "      <td>1.244700e+07</td>\n",
       "      <td>6.136184e+07</td>\n",
       "      <td>2.413669e+07</td>\n",
       "      <td>1.184696e+07</td>\n",
       "      <td>...</td>\n",
       "      <td>1.300486e+07</td>\n",
       "      <td>4.451472e+06</td>\n",
       "      <td>3.640023e+07</td>\n",
       "      <td>8.740135e+06</td>\n",
       "      <td>4.745080e+07</td>\n",
       "      <td>1.313209e+08</td>\n",
       "      <td>9.668506e+06</td>\n",
       "      <td>1.531204e+06</td>\n",
       "      <td>1.706914e+07</td>\n",
       "      <td>3.035313e+07</td>\n",
       "    </tr>\n",
       "    <tr>\n",
       "      <th>75%</th>\n",
       "      <td>3.739157e+06</td>\n",
       "      <td>1.701403e+07</td>\n",
       "      <td>2.386450e+06</td>\n",
       "      <td>9.824201e+07</td>\n",
       "      <td>6.524527e+06</td>\n",
       "      <td>8.808989e+06</td>\n",
       "      <td>1.324185e+07</td>\n",
       "      <td>6.635019e+07</td>\n",
       "      <td>2.572032e+07</td>\n",
       "      <td>1.236601e+07</td>\n",
       "      <td>...</td>\n",
       "      <td>1.338860e+07</td>\n",
       "      <td>4.571666e+06</td>\n",
       "      <td>4.098840e+07</td>\n",
       "      <td>9.258624e+06</td>\n",
       "      <td>5.179188e+07</td>\n",
       "      <td>1.332096e+08</td>\n",
       "      <td>1.093338e+07</td>\n",
       "      <td>1.953794e+06</td>\n",
       "      <td>1.784624e+07</td>\n",
       "      <td>3.166229e+07</td>\n",
       "    </tr>\n",
       "    <tr>\n",
       "      <th>max</th>\n",
       "      <td>4.581626e+06</td>\n",
       "      <td>3.282833e+07</td>\n",
       "      <td>3.062285e+06</td>\n",
       "      <td>1.093704e+08</td>\n",
       "      <td>8.476426e+06</td>\n",
       "      <td>9.084819e+06</td>\n",
       "      <td>1.450076e+07</td>\n",
       "      <td>7.016738e+07</td>\n",
       "      <td>3.284734e+07</td>\n",
       "      <td>1.304337e+07</td>\n",
       "      <td>...</td>\n",
       "      <td>1.462888e+07</td>\n",
       "      <td>5.510107e+06</td>\n",
       "      <td>5.291742e+07</td>\n",
       "      <td>1.493124e+07</td>\n",
       "      <td>5.398270e+07</td>\n",
       "      <td>1.460883e+08</td>\n",
       "      <td>1.160325e+07</td>\n",
       "      <td>8.282811e+06</td>\n",
       "      <td>1.833894e+07</td>\n",
       "      <td>3.418421e+07</td>\n",
       "    </tr>\n",
       "  </tbody>\n",
       "</table>\n",
       "<p>8 rows × 22 columns</p>\n",
       "</div>"
      ],
      "text/plain": [
       "                AIA           A&U     Com & Med     Cul & Art          DfDr  \\\n",
       "count  8.000000e+00  8.000000e+00  8.000000e+00  8.000000e+00  8.000000e+00   \n",
       "mean   3.222062e+06  1.567484e+07  2.118006e+06  9.486595e+07  5.995747e+06   \n",
       "std    8.758056e+05  9.536549e+06  6.266516e+05  8.934885e+06  1.534223e+06   \n",
       "min    2.223209e+06  9.445268e+06  1.167967e+06  8.657188e+07  4.278383e+06   \n",
       "25%    2.402462e+06  1.021091e+07  1.814858e+06  8.920221e+07  4.947949e+06   \n",
       "50%    3.255930e+06  1.038394e+07  2.322199e+06  9.111914e+07  5.841621e+06   \n",
       "75%    3.739157e+06  1.701403e+07  2.386450e+06  9.824201e+07  6.524527e+06   \n",
       "max    4.581626e+06  3.282833e+07  3.062285e+06  1.093704e+08  8.476426e+06   \n",
       "\n",
       "                 TR           ECO           EDU          EMPL     ENV & ECO  \\\n",
       "count  8.000000e+00  8.000000e+00  8.000000e+00  8.000000e+00  8.000000e+00   \n",
       "mean   8.468913e+06  1.248780e+07  6.192818e+07  2.335120e+07  1.171372e+07   \n",
       "std    4.600084e+05  1.294132e+06  5.523769e+06  6.023635e+06  1.000959e+06   \n",
       "min    7.688415e+06  1.086744e+07  5.448183e+07  1.518453e+07  1.038436e+07   \n",
       "25%    8.311423e+06  1.140543e+07  5.878961e+07  1.846325e+07  1.080213e+07   \n",
       "50%    8.455529e+06  1.244700e+07  6.136184e+07  2.413669e+07  1.184696e+07   \n",
       "75%    8.808989e+06  1.324185e+07  6.635019e+07  2.572032e+07  1.236601e+07   \n",
       "max    9.084819e+06  1.450076e+07  7.016738e+07  3.284734e+07  1.304337e+07   \n",
       "\n",
       "       ...          LOIS           MEM     PRE & EXC            RI  \\\n",
       "count  ...  8.000000e+00  8.000000e+00  8.000000e+00  8.000000e+00   \n",
       "mean   ...  1.301908e+07  4.414434e+06  3.518024e+07  9.127343e+06   \n",
       "std    ...  9.044352e+05  6.191589e+05  1.201049e+07  2.576158e+06   \n",
       "min    ...  1.150542e+07  3.261428e+06  2.084582e+07  6.012461e+06   \n",
       "25%    ...  1.267688e+07  4.232436e+06  2.402190e+07  8.111166e+06   \n",
       "50%    ...  1.300486e+07  4.451472e+06  3.640023e+07  8.740135e+06   \n",
       "75%    ...  1.338860e+07  4.571666e+06  4.098840e+07  9.258624e+06   \n",
       "max    ...  1.462888e+07  5.510107e+06  5.291742e+07  1.493124e+07   \n",
       "\n",
       "                 SA           SOC            SP     TECH & RE          TOUR  \\\n",
       "count  8.000000e+00  8.000000e+00  8.000000e+00  8.000000e+00  8.000000e+00   \n",
       "mean   4.503541e+07  1.237807e+08  1.008591e+07  2.456635e+06  1.650517e+07   \n",
       "std    8.223211e+06  1.694704e+07  9.504572e+05  2.407374e+06  1.945056e+06   \n",
       "min    3.404364e+07  9.979392e+07  9.156281e+06  1.133300e+06  1.277499e+07   \n",
       "25%    3.731194e+07  1.087684e+08  9.381315e+06  1.377002e+06  1.599313e+07   \n",
       "50%    4.745080e+07  1.313209e+08  9.668506e+06  1.531204e+06  1.706914e+07   \n",
       "75%    5.179188e+07  1.332096e+08  1.093338e+07  1.953794e+06  1.784624e+07   \n",
       "max    5.398270e+07  1.460883e+08  1.160325e+07  8.282811e+06  1.833894e+07   \n",
       "\n",
       "           V & ANIM  \n",
       "count  8.000000e+00  \n",
       "mean   2.828082e+07  \n",
       "std    5.136129e+06  \n",
       "min    2.162944e+07  \n",
       "25%    2.274313e+07  \n",
       "50%    3.035313e+07  \n",
       "75%    3.166229e+07  \n",
       "max    3.418421e+07  \n",
       "\n",
       "[8 rows x 22 columns]"
      ]
     },
     "execution_count": 37,
     "metadata": {},
     "output_type": "execute_result"
    }
   ],
   "source": [
    "Budget_secteurs_by_year.describe()"
   ]
  },
  {
   "cell_type": "markdown",
   "id": "c1b11675",
   "metadata": {},
   "source": [
    "Importation des modules et fonctions de la librairie sklearn nécessaires à la mise en place de l'ACP"
   ]
  },
  {
   "cell_type": "code",
   "execution_count": 38,
   "id": "5981430a",
   "metadata": {},
   "outputs": [],
   "source": [
    "from sklearn.preprocessing import StandardScaler\n",
    "from sklearn.decomposition import PCA \n",
    "import numpy\n",
    "\n",
    "scaler = StandardScaler()"
   ]
  },
  {
   "cell_type": "markdown",
   "id": "cf45d5d6",
   "metadata": {},
   "source": [
    "On centre et réduit les données de notre table pour faire en sorte que chacun de nos axes contribuent de la même manière à l'information. Création du dataframe X centré réduit à partir de notre table Budget secteurs par année."
   ]
  },
  {
   "cell_type": "code",
   "execution_count": 39,
   "id": "c790f2bb",
   "metadata": {},
   "outputs": [],
   "source": [
    "X = pandas.DataFrame(scaler.fit_transform(Budget_secteurs_by_year), columns=Budget_secteurs_by_year.columns, index=Budget_secteurs_by_year.index)"
   ]
  },
  {
   "cell_type": "markdown",
   "id": "7d84fb67",
   "metadata": {},
   "source": [
    "### Calcul de l'ACP"
   ]
  },
  {
   "cell_type": "code",
   "execution_count": 40,
   "id": "af6e6db9",
   "metadata": {},
   "outputs": [],
   "source": [
    "pca=PCA()\n",
    "pca.fit(X)\n",
    "\n",
    "U = numpy.transpose(pca.components_) # vecteurs propres\n",
    "C = pandas.DataFrame(X.dot(U)) # nouvelles coordonnées\n",
    "I = pandas.DataFrame(pca.explained_variance_ratio_)  # information véhiculée\n",
    "\n",
    "correlations = pandas.DataFrame([[C[facteur].corr(X[column]) for facteur in C] for column in X], index=X.columns)\n",
    "quality = (C**2).div((X**2).sum(axis=1), axis='index')\n"
   ]
  },
  {
   "cell_type": "markdown",
   "id": "26f94f2c",
   "metadata": {},
   "source": [
    "### Interpréations de l'ACP"
   ]
  },
  {
   "cell_type": "code",
   "execution_count": 41,
   "id": "dbdcc9e1",
   "metadata": {},
   "outputs": [
    {
     "data": {
      "text/html": [
       "<div>\n",
       "<style scoped>\n",
       "    .dataframe tbody tr th:only-of-type {\n",
       "        vertical-align: middle;\n",
       "    }\n",
       "\n",
       "    .dataframe tbody tr th {\n",
       "        vertical-align: top;\n",
       "    }\n",
       "\n",
       "    .dataframe thead th {\n",
       "        text-align: right;\n",
       "    }\n",
       "</style>\n",
       "<table border=\"1\" class=\"dataframe\">\n",
       "  <thead>\n",
       "    <tr style=\"text-align: right;\">\n",
       "      <th></th>\n",
       "      <th>0</th>\n",
       "    </tr>\n",
       "  </thead>\n",
       "  <tbody>\n",
       "    <tr>\n",
       "      <th>0</th>\n",
       "      <td>6.272841e-01</td>\n",
       "    </tr>\n",
       "    <tr>\n",
       "      <th>1</th>\n",
       "      <td>1.456712e-01</td>\n",
       "    </tr>\n",
       "    <tr>\n",
       "      <th>2</th>\n",
       "      <td>8.777291e-02</td>\n",
       "    </tr>\n",
       "    <tr>\n",
       "      <th>3</th>\n",
       "      <td>7.227983e-02</td>\n",
       "    </tr>\n",
       "    <tr>\n",
       "      <th>4</th>\n",
       "      <td>2.999998e-02</td>\n",
       "    </tr>\n",
       "    <tr>\n",
       "      <th>5</th>\n",
       "      <td>2.015077e-02</td>\n",
       "    </tr>\n",
       "    <tr>\n",
       "      <th>6</th>\n",
       "      <td>1.684122e-02</td>\n",
       "    </tr>\n",
       "    <tr>\n",
       "      <th>7</th>\n",
       "      <td>1.951293e-33</td>\n",
       "    </tr>\n",
       "  </tbody>\n",
       "</table>\n",
       "</div>"
      ],
      "text/plain": [
       "              0\n",
       "0  6.272841e-01\n",
       "1  1.456712e-01\n",
       "2  8.777291e-02\n",
       "3  7.227983e-02\n",
       "4  2.999998e-02\n",
       "5  2.015077e-02\n",
       "6  1.684122e-02\n",
       "7  1.951293e-33"
      ]
     },
     "execution_count": 41,
     "metadata": {},
     "output_type": "execute_result"
    }
   ],
   "source": [
    "I"
   ]
  },
  {
   "cell_type": "markdown",
   "id": "88c39ac9",
   "metadata": {},
   "source": [
    "Nombre d'axes"
   ]
  },
  {
   "cell_type": "code",
   "execution_count": 42,
   "id": "fd52f9a9",
   "metadata": {},
   "outputs": [
    {
     "data": {
      "text/plain": [
       "22"
      ]
     },
     "execution_count": 42,
     "metadata": {},
     "output_type": "execute_result"
    }
   ],
   "source": [
    "len(X.columns)"
   ]
  },
  {
   "cell_type": "markdown",
   "id": "7449cd73",
   "metadata": {},
   "source": [
    "On représente l'inertie expliquée:"
   ]
  },
  {
   "cell_type": "code",
   "execution_count": 43,
   "id": "541bd5fe",
   "metadata": {},
   "outputs": [
    {
     "data": {
      "image/png": "[encoded data removed]",
      "text/plain": [
       "<Figure size 504x504 with 1 Axes>"
      ]
     },
     "metadata": {
      "needs_background": "light"
     },
     "output_type": "display_data"
    }
   ],
   "source": [
    "import matplotlib.pyplot as plt\n",
    "fig, ax = plt.subplots(figsize=(7, 7)) \n",
    "\n",
    "I.plot(ax=ax)\n",
    "\n",
    "plt.title(\"inertie expliquee\")\n",
    "plt.xlabel(\"axes principaux\")\n",
    "plt.ylabel(\"% d'inertie expliquee\")\n",
    "\n",
    "plt.axhline(0.09, color=\"red\")\n",
    "\n",
    "plt.show() "
   ]
  },
  {
   "cell_type": "markdown",
   "id": "0ac81cad",
   "metadata": {},
   "source": [
    "En prenant les 3 premiers axes principaux (correspondant aux 3 premiers vecteurs propres) on peut expliquer plus de 80% de l'information:"
   ]
  },
  {
   "cell_type": "code",
   "execution_count": 44,
   "id": "3b4f453c",
   "metadata": {},
   "outputs": [
    {
     "data": {
      "text/plain": [
       "0.8607282023068175"
      ]
     },
     "execution_count": 44,
     "metadata": {},
     "output_type": "execute_result"
    }
   ],
   "source": [
    "float(I.iloc[0:3].sum())"
   ]
  },
  {
   "cell_type": "markdown",
   "id": "3168bf41",
   "metadata": {},
   "source": [
    "En cumulé on a:"
   ]
  },
  {
   "cell_type": "code",
   "execution_count": 45,
   "id": "ff32b4d6",
   "metadata": {},
   "outputs": [
    {
     "data": {
      "text/plain": [
       "<matplotlib.lines.Line2D at 0x7f90e9a7d640>"
      ]
     },
     "execution_count": 45,
     "metadata": {},
     "output_type": "execute_result"
    },
    {
     "data": {
      "image/png": "[encoded data removed]",
      "text/plain": [
       "<Figure size 576x576 with 1 Axes>"
      ]
     },
     "metadata": {
      "needs_background": "light"
     },
     "output_type": "display_data"
    }
   ],
   "source": [
    "fig, ax = plt.subplots(figsize=(8, 8)) \n",
    "\n",
    "I.cumsum().plot(ax=ax)\n",
    "\n",
    "plt.title(\"inertie expliquée cumulée\")\n",
    "plt.xlabel(\"axes principaux\")\n",
    "plt.ylabel(\"% d'inertie expliquee\")\n",
    "\n",
    "plt.axhline(float(I.iloc[0:3].sum()), color=\"pink\")"
   ]
  },
  {
   "cell_type": "markdown",
   "id": "e92de718",
   "metadata": {},
   "source": [
    "### Interprétation pour une sélection de deux axes seulement"
   ]
  },
  {
   "cell_type": "code",
   "execution_count": 46,
   "id": "603f3c2b",
   "metadata": {},
   "outputs": [
    {
     "data": {
      "text/html": [
       "<div>\n",
       "<style scoped>\n",
       "    .dataframe tbody tr th:only-of-type {\n",
       "        vertical-align: middle;\n",
       "    }\n",
       "\n",
       "    .dataframe tbody tr th {\n",
       "        vertical-align: top;\n",
       "    }\n",
       "\n",
       "    .dataframe thead th {\n",
       "        text-align: right;\n",
       "    }\n",
       "</style>\n",
       "<table border=\"1\" class=\"dataframe\">\n",
       "  <thead>\n",
       "    <tr style=\"text-align: right;\">\n",
       "      <th></th>\n",
       "      <th>0</th>\n",
       "      <th>1</th>\n",
       "      <th>2</th>\n",
       "    </tr>\n",
       "  </thead>\n",
       "  <tbody>\n",
       "    <tr>\n",
       "      <th>AIA</th>\n",
       "      <td>-0.980704</td>\n",
       "      <td>-0.059389</td>\n",
       "      <td>-0.051474</td>\n",
       "    </tr>\n",
       "    <tr>\n",
       "      <th>A&amp;U</th>\n",
       "      <td>0.767515</td>\n",
       "      <td>-0.211449</td>\n",
       "      <td>-0.511913</td>\n",
       "    </tr>\n",
       "    <tr>\n",
       "      <th>Com &amp; Med</th>\n",
       "      <td>-0.742043</td>\n",
       "      <td>0.252958</td>\n",
       "      <td>-0.021158</td>\n",
       "    </tr>\n",
       "    <tr>\n",
       "      <th>Cul &amp; Art</th>\n",
       "      <td>0.662842</td>\n",
       "      <td>-0.424905</td>\n",
       "      <td>-0.566054</td>\n",
       "    </tr>\n",
       "    <tr>\n",
       "      <th>DfDr</th>\n",
       "      <td>-0.935457</td>\n",
       "      <td>-0.245735</td>\n",
       "      <td>-0.148159</td>\n",
       "    </tr>\n",
       "    <tr>\n",
       "      <th>TR</th>\n",
       "      <td>0.961095</td>\n",
       "      <td>0.181340</td>\n",
       "      <td>0.051775</td>\n",
       "    </tr>\n",
       "    <tr>\n",
       "      <th>ECO</th>\n",
       "      <td>-0.819033</td>\n",
       "      <td>-0.244660</td>\n",
       "      <td>-0.466117</td>\n",
       "    </tr>\n",
       "    <tr>\n",
       "      <th>EDU</th>\n",
       "      <td>0.204029</td>\n",
       "      <td>0.877043</td>\n",
       "      <td>0.220364</td>\n",
       "    </tr>\n",
       "    <tr>\n",
       "      <th>EMPL</th>\n",
       "      <td>-0.964241</td>\n",
       "      <td>-0.150266</td>\n",
       "      <td>-0.169030</td>\n",
       "    </tr>\n",
       "    <tr>\n",
       "      <th>ENV &amp; ECO</th>\n",
       "      <td>-0.975853</td>\n",
       "      <td>-0.011932</td>\n",
       "      <td>0.039000</td>\n",
       "    </tr>\n",
       "    <tr>\n",
       "      <th>HUM</th>\n",
       "      <td>-0.958902</td>\n",
       "      <td>0.104906</td>\n",
       "      <td>-0.062542</td>\n",
       "    </tr>\n",
       "    <tr>\n",
       "      <th>I&amp;0</th>\n",
       "      <td>0.897082</td>\n",
       "      <td>0.321550</td>\n",
       "      <td>0.149966</td>\n",
       "    </tr>\n",
       "    <tr>\n",
       "      <th>LOIS</th>\n",
       "      <td>-0.642518</td>\n",
       "      <td>0.525753</td>\n",
       "      <td>-0.342175</td>\n",
       "    </tr>\n",
       "    <tr>\n",
       "      <th>MEM</th>\n",
       "      <td>-0.742458</td>\n",
       "      <td>-0.142460</td>\n",
       "      <td>0.172043</td>\n",
       "    </tr>\n",
       "    <tr>\n",
       "      <th>PRE &amp; EXC</th>\n",
       "      <td>-0.988296</td>\n",
       "      <td>-0.122597</td>\n",
       "      <td>-0.061665</td>\n",
       "    </tr>\n",
       "    <tr>\n",
       "      <th>RI</th>\n",
       "      <td>-0.491156</td>\n",
       "      <td>0.808037</td>\n",
       "      <td>-0.187676</td>\n",
       "    </tr>\n",
       "    <tr>\n",
       "      <th>SA</th>\n",
       "      <td>-0.959610</td>\n",
       "      <td>-0.032372</td>\n",
       "      <td>0.121626</td>\n",
       "    </tr>\n",
       "    <tr>\n",
       "      <th>SOC</th>\n",
       "      <td>-0.950947</td>\n",
       "      <td>0.062332</td>\n",
       "      <td>0.004626</td>\n",
       "    </tr>\n",
       "    <tr>\n",
       "      <th>SP</th>\n",
       "      <td>-0.308488</td>\n",
       "      <td>-0.210630</td>\n",
       "      <td>0.437744</td>\n",
       "    </tr>\n",
       "    <tr>\n",
       "      <th>TECH &amp; RE</th>\n",
       "      <td>-0.053669</td>\n",
       "      <td>0.884851</td>\n",
       "      <td>-0.182524</td>\n",
       "    </tr>\n",
       "    <tr>\n",
       "      <th>TOUR</th>\n",
       "      <td>0.243087</td>\n",
       "      <td>0.217978</td>\n",
       "      <td>-0.755437</td>\n",
       "    </tr>\n",
       "    <tr>\n",
       "      <th>V &amp; ANIM</th>\n",
       "      <td>-0.988710</td>\n",
       "      <td>0.090024</td>\n",
       "      <td>0.048385</td>\n",
       "    </tr>\n",
       "  </tbody>\n",
       "</table>\n",
       "</div>"
      ],
      "text/plain": [
       "                  0         1         2\n",
       "AIA       -0.980704 -0.059389 -0.051474\n",
       "A&U        0.767515 -0.211449 -0.511913\n",
       "Com & Med -0.742043  0.252958 -0.021158\n",
       "Cul & Art  0.662842 -0.424905 -0.566054\n",
       "DfDr      -0.935457 -0.245735 -0.148159\n",
       "TR         0.961095  0.181340  0.051775\n",
       "ECO       -0.819033 -0.244660 -0.466117\n",
       "EDU        0.204029  0.877043  0.220364\n",
       "EMPL      -0.964241 -0.150266 -0.169030\n",
       "ENV & ECO -0.975853 -0.011932  0.039000\n",
       "HUM       -0.958902  0.104906 -0.062542\n",
       "I&0        0.897082  0.321550  0.149966\n",
       "LOIS      -0.642518  0.525753 -0.342175\n",
       "MEM       -0.742458 -0.142460  0.172043\n",
       "PRE & EXC -0.988296 -0.122597 -0.061665\n",
       "RI        -0.491156  0.808037 -0.187676\n",
       "SA        -0.959610 -0.032372  0.121626\n",
       "SOC       -0.950947  0.062332  0.004626\n",
       "SP        -0.308488 -0.210630  0.437744\n",
       "TECH & RE -0.053669  0.884851 -0.182524\n",
       "TOUR       0.243087  0.217978 -0.755437\n",
       "V & ANIM  -0.988710  0.090024  0.048385"
      ]
     },
     "execution_count": 46,
     "metadata": {},
     "output_type": "execute_result"
    }
   ],
   "source": [
    "correlations[[0,1,2]]"
   ]
  },
  {
   "cell_type": "code",
   "execution_count": 47,
   "id": "3c045707",
   "metadata": {},
   "outputs": [
    {
     "data": {
      "text/html": [
       "<div>\n",
       "<style scoped>\n",
       "    .dataframe tbody tr th:only-of-type {\n",
       "        vertical-align: middle;\n",
       "    }\n",
       "\n",
       "    .dataframe tbody tr th {\n",
       "        vertical-align: top;\n",
       "    }\n",
       "\n",
       "    .dataframe thead th {\n",
       "        text-align: right;\n",
       "    }\n",
       "</style>\n",
       "<table border=\"1\" class=\"dataframe\">\n",
       "  <thead>\n",
       "    <tr style=\"text-align: right;\">\n",
       "      <th></th>\n",
       "      <th>0</th>\n",
       "      <th>1</th>\n",
       "      <th>2</th>\n",
       "    </tr>\n",
       "    <tr>\n",
       "      <th>Année budgétaire</th>\n",
       "      <th></th>\n",
       "      <th></th>\n",
       "      <th></th>\n",
       "    </tr>\n",
       "  </thead>\n",
       "  <tbody>\n",
       "    <tr>\n",
       "      <th>2013</th>\n",
       "      <td>0.689858</td>\n",
       "      <td>0.007079</td>\n",
       "      <td>0.136428</td>\n",
       "    </tr>\n",
       "    <tr>\n",
       "      <th>2014</th>\n",
       "      <td>0.889996</td>\n",
       "      <td>0.020196</td>\n",
       "      <td>0.026611</td>\n",
       "    </tr>\n",
       "    <tr>\n",
       "      <th>2015</th>\n",
       "      <td>0.725202</td>\n",
       "      <td>0.015046</td>\n",
       "      <td>0.143128</td>\n",
       "    </tr>\n",
       "    <tr>\n",
       "      <th>2016</th>\n",
       "      <td>0.117592</td>\n",
       "      <td>0.082168</td>\n",
       "      <td>0.021964</td>\n",
       "    </tr>\n",
       "    <tr>\n",
       "      <th>2017</th>\n",
       "      <td>0.133253</td>\n",
       "      <td>0.792564</td>\n",
       "      <td>0.035757</td>\n",
       "    </tr>\n",
       "    <tr>\n",
       "      <th>2018</th>\n",
       "      <td>0.119553</td>\n",
       "      <td>0.002673</td>\n",
       "      <td>0.658406</td>\n",
       "    </tr>\n",
       "    <tr>\n",
       "      <th>2019</th>\n",
       "      <td>0.786609</td>\n",
       "      <td>0.085708</td>\n",
       "      <td>0.002159</td>\n",
       "    </tr>\n",
       "    <tr>\n",
       "      <th>2020</th>\n",
       "      <td>0.743932</td>\n",
       "      <td>0.107966</td>\n",
       "      <td>0.025750</td>\n",
       "    </tr>\n",
       "  </tbody>\n",
       "</table>\n",
       "</div>"
      ],
      "text/plain": [
       "                         0         1         2\n",
       "Année budgétaire                              \n",
       "2013              0.689858  0.007079  0.136428\n",
       "2014              0.889996  0.020196  0.026611\n",
       "2015              0.725202  0.015046  0.143128\n",
       "2016              0.117592  0.082168  0.021964\n",
       "2017              0.133253  0.792564  0.035757\n",
       "2018              0.119553  0.002673  0.658406\n",
       "2019              0.786609  0.085708  0.002159\n",
       "2020              0.743932  0.107966  0.025750"
      ]
     },
     "execution_count": 47,
     "metadata": {},
     "output_type": "execute_result"
    }
   ],
   "source": [
    "quality[[0,1,2]]"
   ]
  },
  {
   "cell_type": "markdown",
   "id": "d1c418b6",
   "metadata": {},
   "source": [
    "Au vu de la qualité de projection on garde les axes 0 et 1 pour la représentation:"
   ]
  },
  {
   "cell_type": "code",
   "execution_count": 48,
   "id": "d395fe7a",
   "metadata": {},
   "outputs": [
    {
     "data": {
      "image/png": "[encoded data removed]",
      "text/plain": [
       "<Figure size 1080x1080 with 1 Axes>"
      ]
     },
     "metadata": {},
     "output_type": "display_data"
    }
   ],
   "source": [
    "# bibliothèque et définition palette style pour graphes\n",
    "\n",
    "import matplotlib.pyplot as plt\n",
    "import seaborn as sns\n",
    "\n",
    "sns.set()\n",
    "\n",
    "current_palette = sns.color_palette()\n",
    "axe_x = 0\n",
    "axe_y = 1\n",
    "\n",
    "fig, ax = plt.subplots(figsize=(15, 15)) \n",
    "\n",
    "draw = correlations.plot.scatter(x=axe_x, y=axe_y, ax=ax, color=current_palette[3])\n",
    "\n",
    "\n",
    "for index, row in correlations.iterrows():\n",
    "    draw.annotate(str(index), (row[axe_x], row[axe_y]),fontsize=20)\n",
    "\n",
    "draw.add_patch(plt.Circle((0, 0), radius=1, color=(0, 0, 0, .3)))\n",
    "\n",
    "plt.xlim(-1.2, 1.2)\n",
    "plt.ylim(-1.2, 1.2)\n",
    "plt.axvline(0)\n",
    "plt.axhline(0)\n",
    "\n",
    "plt.show()"
   ]
  },
  {
   "cell_type": "markdown",
   "id": "75f3413c",
   "metadata": {},
   "source": [
    "Interpréations:\n",
    "\n",
    "Axe d'étude 0:  \n",
    "L'axe oppose les secteurs d'activité liés au social, la santé, l'humanitaire, l'environnement, la défense des droits et la lutte contre la précarité aux secteurs d'activité lié à la culture, le transport, l'urbanisme, les promotion et diffusion d'idées et opinions. \n",
    "\n",
    "\n",
    "Axe d'étude 1:  \n",
    "On constate que plus on augmente sur l'axe plus le montant versé aux associations dans l'éducation, la technique & recherche ou les relations internationales augmente. \n",
    "\n"
   ]
  },
  {
   "cell_type": "code",
   "execution_count": 49,
   "id": "d81fa723",
   "metadata": {},
   "outputs": [
    {
     "data": {
      "image/png": "[encoded data removed]",
      "text/plain": [
       "<Figure size 504x504 with 1 Axes>"
      ]
     },
     "metadata": {},
     "output_type": "display_data"
    }
   ],
   "source": [
    "axe_x = 0\n",
    "axe_y = 1\n",
    "\n",
    "fig, ax = plt.subplots(figsize=(7, 7)) \n",
    "\n",
    "draw = C.plot.scatter(axe_x, axe_y, ax=ax, \n",
    "                      color=[current_palette[0]]*len(C.index))\n",
    "\n",
    "for index, row in C.iterrows():\n",
    "    draw.annotate(str(index), (row[axe_x], row[axe_y]))\n",
    "\n",
    "plt.axvline(0)\n",
    "plt.axhline(0)\n",
    "\n",
    "plt.show() "
   ]
  },
  {
   "cell_type": "code",
   "execution_count": 50,
   "id": "412f5afc",
   "metadata": {},
   "outputs": [
    {
     "data": {
      "text/plain": [
       "<AxesSubplot:xlabel='Année budgétaire'>"
      ]
     },
     "execution_count": 50,
     "metadata": {},
     "output_type": "execute_result"
    },
    {
     "data": {
      "image/png": "[encoded data removed]",
      "text/plain": [
       "<Figure size 432x288 with 1 Axes>"
      ]
     },
     "metadata": {},
     "output_type": "display_data"
    }
   ],
   "source": [
    "Budget_secteurs_by_year[\"TR\"].plot()"
   ]
  }
 ],
 "metadata": {
  "kernelspec": {
   "display_name": "Python 3 (ipykernel)",
   "language": "python",
   "name": "python3"
  },
  "language_info": {
   "codemirror_mode": {
    "name": "ipython",
    "version": 3
   },
   "file_extension": ".py",
   "mimetype": "text/x-python",
   "name": "python",
   "nbconvert_exporter": "python",
   "pygments_lexer": "ipython3",
   "version": "3.9.7"
  }
 },
 "nbformat": 4,
 "nbformat_minor": 5
}
